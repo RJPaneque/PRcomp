{
 "cells": [
  {
   "cell_type": "code",
   "execution_count": 1,
   "metadata": {},
   "outputs": [],
   "source": [
    "from analysis import iso_in_plots, aesthetic_plot, PRAnalysis\n",
    "from betaplus import SB, MB\n",
    "import fitPRd\n",
    "from kernel import VG\n",
    "\n",
    "import numpy as np\n",
    "import matplotlib.pyplot as plt\n",
    "\n",
    "\n",
    "import cProfile\n",
    "profiler = cProfile.Profile()\n",
    "\n",
    "from scipy.stats import entropy, wasserstein_distance\n",
    "\n",
    "def compute_divergences(p, q, XX):\n",
    "    # p and q are the distributions (y values) corresponding to the same x values\n",
    "    eps = 1e-10\n",
    "    p = p + eps\n",
    "    q = q + eps\n",
    "    p_norm = p / np.sum(p)\n",
    "    q_norm = q / np.sum(q)\n",
    "    \n",
    "    # Compute KL divergence in both directions\n",
    "    kl_pq = entropy(p_norm, q_norm)  # KL divergence D(P || Q)\n",
    "    kl_qp = entropy(q_norm, p_norm)  # KL divergence D(Q || P)\n",
    "    \n",
    "    # Compute the Wasserstein distance using the common x-axis: XX.\n",
    "    # The Wasserstein function takes distributions along with the positions\n",
    "    ws = wasserstein_distance(XX, XX, p_norm, q_norm)\n",
    "    \n",
    "    return kl_pq, kl_qp, ws"
   ]
  },
  {
   "cell_type": "markdown",
   "metadata": {},
   "source": [
    "# Simulate kernels"
   ]
  },
  {
   "cell_type": "code",
   "execution_count": null,
   "metadata": {},
   "outputs": [],
   "source": [
    "import inputs, simuls"
   ]
  },
  {
   "cell_type": "markdown",
   "metadata": {},
   "source": [
    "## PenEasy MOD"
   ]
  },
  {
   "cell_type": "code",
   "execution_count": null,
   "metadata": {},
   "outputs": [
    {
     "name": "stdout",
     "output_type": "stream",
     "text": [
      "penEasy 2020 SPC activated\n"
     ]
    }
   ],
   "source": [
    "pid = 'MOD'\n",
    "ver = '20'\n",
    "# Initialize PenEasy Input Editor\n",
    "peneasy_inps = inputs.PenEasy(verbose=True)\n",
    "\n",
    "# Initialize Simulators (identified by pid)\n",
    "peneasy_sims = simuls.PenEasy(verbose=True)\n",
    "peneasy_sims.activate_pid(pid, ver)"
   ]
  },
  {
   "cell_type": "code",
   "execution_count": null,
   "metadata": {},
   "outputs": [
    {
     "name": "stdout",
     "output_type": "stream",
     "text": [
      "\"penEasy/pen??_spc.in\" and \"penEasy/pen??_nuc.in\" coordinates of box center modified to (3, 3, 3)\n",
      "\"penEasy/phantomN.vox\" voxel size modified to (0.3, 0.3, 0.3)\n",
      "\"penEasy/pen*.in\" random seeds modified to 12345 and 54321\n",
      "\"penEasy/pen??_spc.in\" and \"penEasy/pen??_nuc.in\" material modified to water\n",
      "\"penEasy/phantomN.vox\" density modified to 1.00000000E+00\n",
      "\"penEasy/phantomN.vox\" updated to water (case 1)\n",
      "\"penEasy/pen??_spc.in\" and \"penEasy/pen??_nuc.in\" number of histories modified to 1e6\n",
      "\"penEasy/phantomN.vox\" updated to point source of activity 1e6\n"
     ]
    }
   ],
   "source": [
    "MATS = {'water' : ['water', 1, 1.00+00]}\n",
    "SIZE = [20]*3\n",
    "STEP = [0.3]*3  #cm\n",
    "nhist = \"1e6\"\n",
    "\n",
    "peneasy_inps.edit_voxSize(pid, SIZE, STEP)\n",
    "peneasy_inps.edit_seed(pid, 12345, 54321)\n",
    "peneasy_inps.edit_mat(pid, MATS, SIZE, STEP)\n",
    "peneasy_inps.edit_source_nhist(pid, nhist)"
   ]
  },
  {
   "cell_type": "code",
   "execution_count": null,
   "metadata": {},
   "outputs": [
    {
     "name": "stdout",
     "output_type": "stream",
     "text": [
      "Simulating C11\n",
      "penEasy 2020 SPC real time: 119.208 +- 0.000 s\n",
      "Simulating N13\n",
      "penEasy 2020 SPC real time: 123.496 +- 0.000 s\n",
      "Simulating O15\n",
      "penEasy 2020 SPC real time: 132.084 +- 0.000 s\n",
      "Simulating F18\n",
      "penEasy 2020 SPC real time: 110.684 +- 0.000 s\n",
      "Simulating Cu64\n",
      "penEasy 2020 SPC real time: 113.591 +- 0.000 s\n",
      "Simulating Ga68\n",
      "penEasy 2020 SPC real time: 135.293 +- 0.000 s\n",
      "Simulating Rb82\n",
      "penEasy 2020 SPC real time: 150.687 +- 0.000 s\n",
      "Simulating I124\n",
      "penEasy 2020 SPC real time: 135.245 +- 0.000 s\n"
     ]
    }
   ],
   "source": [
    "isotopes = [\"C11\", \"N13\", \"O15\", \"F18\", \"Cu64\", \"Ga68\", \"Rb82\", \"I124\"]\n",
    "\n",
    "peneasy_inps.verbose = False\n",
    "for iso in isotopes:\n",
    "    print(f\"Simulating {iso}\")\n",
    "    res_folder = f\"RESULTS/SPC/Water/PenEasy20{ver}_xyz\"\n",
    "    peneasy_inps.edit_isotope(pid, iso)\n",
    "    peneasy_sims.simulate(pid, get_times=True, time_samples=1, output_dir=res_folder, final_file=f\"{iso}.dat.original\")"
   ]
  },
  {
   "cell_type": "code",
   "execution_count": null,
   "metadata": {},
   "outputs": [],
   "source": [
    "res_folder = f\"RESULTS/SPC/Water/PenEasy20{ver}_xyz\"\n",
    "times_file = res_folder + \"/\" + pid + \"_times.txt\"\n",
    "times = np.loadtxt(times_file).astype(\"str\")\n",
    "times[:,1], times[:,0] = times[:,0], isotopes\n",
    "np.savetxt(times_file, times, fmt='%s')"
   ]
  },
  {
   "cell_type": "markdown",
   "metadata": {},
   "source": [
    "# Compare against kernel from simulation"
   ]
  },
  {
   "cell_type": "code",
   "execution_count": 8,
   "metadata": {},
   "outputs": [
    {
     "name": "stdout",
     "output_type": "stream",
     "text": [
      "Isotope: F18\n",
      "\tMaximum kernel PR in x-axis: 10.25 mm\n",
      "\tMaximum simulated PR: 2.50 mm\n",
      "\t90% yield simulated PR: 0.79 mm\n",
      "\t99% yield simulated PR: 1.25 mm\n",
      "\tVoxel step size: 0.50 mm\n"
     ]
    },
    {
     "name": "stderr",
     "output_type": "stream",
     "text": [
      "100%|██████████| 34460/34460 [00:03<00:00, 11378.17it/s]\n"
     ]
    },
    {
     "name": "stdout",
     "output_type": "stream",
     "text": [
      "\tFrom x=0 to |x|=r_99.0%:\n",
      "\t\tRMSE: 0.17 mm-1\n",
      "\t\tMaximum deviation: 26.97%\n",
      "\t\tR2: -inf\n",
      "Isotope: Ga68\n",
      "\tMaximum kernel PR in x-axis: 10.25 mm\n",
      "\tMaximum simulated PR: 9.55 mm\n",
      "\t90% yield simulated PR: 4.45 mm\n",
      "\t99% yield simulated PR: 6.37 mm\n",
      "\tVoxel step size: 0.50 mm\n"
     ]
    },
    {
     "name": "stderr",
     "output_type": "stream",
     "text": [
      "100%|██████████| 34460/34460 [00:03<00:00, 9968.87it/s] \n"
     ]
    },
    {
     "name": "stdout",
     "output_type": "stream",
     "text": [
      "\tFrom x=0 to |x|=r_99.0%:\n",
      "\t\tRMSE: 0.01 mm-1\n",
      "\t\tMaximum deviation: 11.65%\n",
      "\t\tR2: 0.80\n",
      "Isotope: Rb82\n",
      "\tMaximum kernel PR in x-axis: 10.25 mm\n",
      "\tMaximum simulated PR: 16.86 mm\n",
      "\t90% yield simulated PR: 9.03 mm\n",
      "\t99% yield simulated PR: 12.51 mm\n",
      "\tVoxel step size: 0.50 mm\n"
     ]
    },
    {
     "name": "stderr",
     "output_type": "stream",
     "text": [
      "100%|██████████| 34460/34460 [00:03<00:00, 9547.42it/s]\n"
     ]
    },
    {
     "name": "stdout",
     "output_type": "stream",
     "text": [
      "\tFrom x=0 to |x|=r_99.0%:\n",
      "\t\tRMSE: 0.00 mm-1\n",
      "\t\tMaximum deviation: 5.70%\n",
      "\t\tR2: 0.95\n"
     ]
    },
    {
     "name": "stderr",
     "output_type": "stream",
     "text": [
      "100%|██████████| 34460/34460 [00:44<00:00, 778.90it/s]\n"
     ]
    },
    {
     "data": {
      "image/png": "[encoded data removed]",
      "text/plain": [
       "<Figure size 2000x500 with 5 Axes>"
      ]
     },
     "metadata": {},
     "output_type": "display_data"
    }
   ],
   "source": [
    "import matplotlib.ticker as ticker\n",
    "def fmt(x, pos):\n",
    "    a, b = '{:.2f}'.format(x).split('e')\n",
    "    b = int(b)\n",
    "    return r'${} \\times 10^{{{}}}$'.format(a, b)\n",
    "\n",
    "def get_params(_iso, _fitFile):\n",
    "    _params = []\n",
    "    with open(_fitFile, \"r\") as f:\n",
    "        lines = f.readlines()\n",
    "        for line in lines:\n",
    "            if line.startswith(_iso):\n",
    "                _params = [float(x) for x in line.split()[4:]]\n",
    "                break\n",
    "    return _params\n",
    "\n",
    "pfolder = \"PenEasy2024_xyz\"\n",
    "fitFile_preffix = \"SPC\"\n",
    "fitFile_suffix = \"n_is_param\"\n",
    "kernel_size = [41]*3\n",
    "kernel_step = [50e-2/10]*3 # voxel size in cm\n",
    "\n",
    "colors1 = ['g', 'b', 'r', 'c', 'm']\n",
    "colors2 = ['lightgreen', 'lightblue', 'lightcoral', 'paleturquoise', 'violet']\n",
    "colors = list(zip(colors1, colors2))\n",
    "isotopes = [\"C11\", \"N13\", \"O15\", \"F18\", \"Cu64\", \"Ga68\", \"Rb82\", \"I124\"]  # , \"Ga68\", \"Rb82\"\n",
    "isos2plot = [\"F18\", \"Ga68\", \"Rb82\"]\n",
    "isotopes = isos2plot\n",
    "iso_colors = dict(zip(isos2plot, colors))\n",
    "\n",
    "plt.figure(figsize=(20, 5))\n",
    "for iso in isotopes:\n",
    "    data_file = f\"RESULTS/SPC/Water/{pfolder}/{iso}.dat\"\n",
    "    simul_data = PRAnalysis(f\"{iso} {pfolder}\", data_file, SIZE=kernel_size, STEP=kernel_step) \n",
    "    xdata = simul_data.xp*10\n",
    "    real_aPSFx = simul_data.aPSFx\n",
    "\n",
    "    print(f\"Isotope: {iso}\")\n",
    "    print(f\"\\tMaximum kernel PR in x-axis: {simul_data.Xmax*10:.2f} mm\")\n",
    "    print(f\"\\tMaximum simulated PR: {simul_data.rmax*10:.2f} mm\")\n",
    "    print(f\"\\t90% yield simulated PR: {simul_data.interpol_G3D(0.9)*10:.2f} mm\")\n",
    "    print(f\"\\t99% yield simulated PR: {simul_data.interpol_G3D(0.99)*10:.2f} mm\")\n",
    "    print(f\"\\tVoxel step size: {kernel_step[0]*10:.2f} mm\")\n",
    "\n",
    "    # Get fitting parameters\n",
    "    if iso in SB.keys():\n",
    "        fit_file = f\"RESULTS/SPC/Water/{pfolder}/{fitFile_preffix}-sb_fit-{fitFile_suffix}.txt\"\n",
    "        fit_func, argsP, argsC = fitPRd.MBfit_function(100)\n",
    "        params = get_params(iso, fit_file)\n",
    "\n",
    "    elif iso in MB.keys():\n",
    "        fit_file = f\"RESULTS/MB/Water/{pfolder}/{fitFile_preffix}-mb_fit-{fitFile_suffix}.txt\"\n",
    "        weights = [b[3]*100 for b in MB[iso]['branches']]\n",
    "        fit_func, argsP, argsC = fitPRd.MBfit_function(*weights)\n",
    "        params = []\n",
    "        for i in range(len(weights)):\n",
    "            isob = f\"{iso}-b{i+1}\"\n",
    "            params += get_params(isob, fit_file)\n",
    "\n",
    "    fit_func.fitted_params = params\n",
    "    aPSF3D_tmp = fit_func.get_aPSF3D()\n",
    "    rmin = 1e-8\n",
    "    aPSF3D = lambda _r: aPSF3D_tmp(np.where(_r < rmin, rmin, _r))\n",
    "    aPSF_kernel_VG = VG(aPSF3D, kernel_step, kernel_size, rlim=(rmin, None), voxel_griding=5, source_griding=1)\n",
    "\n",
    "    plt.subplot(131)\n",
    "    kernel_aPSFx = np.sum(aPSF_kernel_VG, axis=(1, 2))\n",
    "    kernel_aPSFx /= kernel_aPSFx.sum()\n",
    "    real_aPSFx /= real_aPSFx.sum()\n",
    "    XX = simul_data.aPSFx_range*10\n",
    "\n",
    "    rmask = 0.99\n",
    "    mask = abs(XX) <= simul_data.interpol_G3D(rmask)\n",
    "    res = kernel_aPSFx - real_aPSFx\n",
    "    print(f\"\\tFrom x=0 to |x|=r_{rmask*100}%:\")\n",
    "\n",
    "    rmse = np.sqrt(np.sum(res[mask]**2) / len(res[mask]))\n",
    "    print(f\"\\t\\tRMSE: {rmse:.2f} mm-1\")\n",
    "\n",
    "    deviation = np.abs(res[mask] / real_aPSFx[mask]) * 100\n",
    "    print(f\"\\t\\tMaximum deviation: {deviation.max():.2f}%\")\n",
    "\n",
    "    r2 = 1.0 - np.sum(res[mask]**2) / np.sum((real_aPSFx[mask]-np.mean(real_aPSFx[mask]))**2)\n",
    "    print(f\"\\t\\tR2: {r2:.2f}\")\n",
    "\n",
    "    # plt.plot(simul_data.aPSFx_range[mask]*10, deviation, label=f\"{iso_in_plots(iso)}\")\n",
    "    if iso not in isos2plot: continue\n",
    "    real_aPSFx /= real_aPSFx.sum()\n",
    "    kernel_aPSFx /= kernel_aPSFx.sum()\n",
    "    plt.plot(XX, real_aPSFx, '-', color=iso_colors[iso][1])\n",
    "    plt.plot(XX, kernel_aPSFx, ':', color=iso_colors[iso][0])\n",
    "plt.xlabel(r\"$x$ (mm)\")\n",
    "plt.ylabel(r\"$\\mathrm{aPSF}_\\mathrm{1D,img}(x)$\")\n",
    "for iso in isos2plot:\n",
    "    plt.plot([], [] , label=iso_in_plots(iso), color=iso_colors[iso][0])\n",
    "plt.plot([], [] , '-', label=\"Simulated\", color='black')\n",
    "plt.plot([], [] , ':', label=\"Generated\", color='black')\n",
    "plt.legend(ncols=2)\n",
    "ax, leg = aesthetic_plot(legend_size=12, linewidth=3)\n",
    "ax.set_title(\"1D aPSF-kernels\", fontsize=16, fontweight='bold')\n",
    "\n",
    "plt.subplot(132)\n",
    "simul_data.img /= simul_data.img.sum()\n",
    "aPSF_kernel_VG /= aPSF_kernel_VG.sum()\n",
    "\n",
    "sfactor = 1e3\n",
    "simul_data.img *= sfactor\n",
    "aPSF_kernel_VG *= sfactor\n",
    "\n",
    "res = aPSF_kernel_VG - simul_data.img\n",
    "\n",
    "res_z = np.sum(res**2, axis=2)\n",
    "rmse_z = np.sqrt(res_z / (kernel_size[2]))\n",
    "\n",
    "y = np.sum(simul_data.img, axis=2)\n",
    "r2_xy = 1.0 - np.sum(res_z**2) / (y - np.mean(y))**2\n",
    "\n",
    "tol = 0\n",
    "dev = np.abs( res/ (simul_data.img+tol) ) #* 100\n",
    "\n",
    "plt.imshow(np.mean(np.abs(res), axis=2), cmap='binary', interpolation='nearest')\n",
    "plt.xlabel(r\"$x$ (voxel)\", fontsize=20)\n",
    "plt.ylabel(r\"$y$ (voxel)\", fontsize=20)\n",
    "cbar = plt.colorbar(shrink=0.8)\n",
    "cbar.ax.yaxis.set_major_formatter(ticker.FuncFormatter(lambda x, pos: f'{x:.0f}%'))\n",
    "# cbar.ax.yaxis.set_offset_position('left')\n",
    "# cbar.formatter.set_powerlimits((0, 0))\n",
    "# cbar.formatter.set_useMathText(True)\n",
    "plt.title(f\"Max absolute deviation in z for {iso_in_plots(iso)}\", fontsize=16, fontweight='bold')\n",
    "\n",
    "plt.subplot(133)\n",
    "aPSF_kernel_VG = VG(aPSF3D, kernel_step, kernel_size, rlim=(rmin, None), voxel_griding=5, source_griding=3)\n",
    "plt.imshow(np.sum(aPSF_kernel_VG, axis=2), cmap='Reds', interpolation='nearest')\n",
    "plt.xlabel(r\"$x$ (voxel)\", fontsize=20)\n",
    "plt.ylabel(r\"$y$ (voxel)\", fontsize=20)\n",
    "cbar = plt.colorbar(shrink=0.8)\n",
    "# cbar.ax.yaxis.set_major_formatter(ticker.FuncFormatter(lambda x, pos: f'{x:.0f}%'))\n",
    "cbar.ax.yaxis.set_offset_position('left')\n",
    "cbar.formatter.set_powerlimits((0, 0))\n",
    "cbar.formatter.set_useMathText(True)\n",
    "plt.title(f\"Generated 2D aPSF-kernel for {iso_in_plots(iso)} \", fontsize=16, fontweight='bold')\n",
    "plt.show()"
   ]
  },
  {
   "cell_type": "code",
   "execution_count": 9,
   "metadata": {},
   "outputs": [
    {
     "name": "stdout",
     "output_type": "stream",
     "text": [
      "Isotope: C11\n",
      "\tVoxel step size: 0.10 mm\n",
      "\tMaximum kernel PR in x-axis: 2.05 mm\n",
      "\tMaximum simulated PR: 4.16 mm\n",
      "\t90% yield simulated PR: 1.83 mm\n",
      "\t99% yield simulated PR: 2.76 mm\n"
     ]
    },
    {
     "name": "stderr",
     "output_type": "stream",
     "text": [
      "100%|██████████| 34460/34460 [00:02<00:00, 11543.58it/s]\n"
     ]
    },
    {
     "name": "stdout",
     "output_type": "stream",
     "text": [
      "\tFrom x=0 to |x|=r_99.0%:\n",
      "\t\tRMSE: 0.01 mm-1\n",
      "\t\tMaximum deviation: 19.05%\n",
      "\t\tR2: 0.82\n",
      "KL divergence (kernel || real): 0.0036915956013367423\n",
      "KL divergence (real || kernel): 0.0038926712607444606\n",
      "Wasserstein distance: 0.0078114893788441605\n",
      "Isotope: N13\n",
      "\tVoxel step size: 0.15 mm\n",
      "\tMaximum kernel PR in x-axis: 3.08 mm\n",
      "\tMaximum simulated PR: 5.54 mm\n",
      "\t90% yield simulated PR: 2.49 mm\n",
      "\t99% yield simulated PR: 3.68 mm\n"
     ]
    },
    {
     "name": "stderr",
     "output_type": "stream",
     "text": [
      "100%|██████████| 34460/34460 [00:02<00:00, 11609.74it/s]\n"
     ]
    },
    {
     "name": "stdout",
     "output_type": "stream",
     "text": [
      "\tFrom x=0 to |x|=r_99.0%:\n",
      "\t\tRMSE: 0.01 mm-1\n",
      "\t\tMaximum deviation: 17.85%\n",
      "\t\tR2: 0.84\n",
      "KL divergence (kernel || real): 0.003044432834931783\n",
      "KL divergence (real || kernel): 0.0032082908316809636\n",
      "Wasserstein distance: 0.01388012326370203\n",
      "Isotope: O15\n",
      "\tVoxel step size: 0.25 mm\n",
      "\tMaximum kernel PR in x-axis: 5.13 mm\n",
      "\tMaximum simulated PR: 8.71 mm\n",
      "\t90% yield simulated PR: 4.07 mm\n",
      "\t99% yield simulated PR: 5.82 mm\n"
     ]
    },
    {
     "name": "stderr",
     "output_type": "stream",
     "text": [
      "100%|██████████| 34460/34460 [00:02<00:00, 11810.98it/s]\n"
     ]
    },
    {
     "name": "stdout",
     "output_type": "stream",
     "text": [
      "\tFrom x=0 to |x|=r_99.0%:\n",
      "\t\tRMSE: 0.01 mm-1\n",
      "\t\tMaximum deviation: 15.15%\n",
      "\t\tR2: 0.85\n",
      "KL divergence (kernel || real): 0.0019450325511194614\n",
      "KL divergence (real || kernel): 0.0020306331253422097\n",
      "Wasserstein distance: 0.01533389959628727\n",
      "Isotope: F18\n",
      "\tVoxel step size: 0.05 mm\n",
      "\tMaximum kernel PR in x-axis: 1.03 mm\n",
      "\tMaximum simulated PR: 2.50 mm\n",
      "\t90% yield simulated PR: 1.01 mm\n",
      "\t99% yield simulated PR: 1.57 mm\n"
     ]
    },
    {
     "name": "stderr",
     "output_type": "stream",
     "text": [
      "100%|██████████| 34460/34460 [00:02<00:00, 11879.20it/s]\n"
     ]
    },
    {
     "name": "stdout",
     "output_type": "stream",
     "text": [
      "\tFrom x=0 to |x|=r_99.0%:\n",
      "\t\tRMSE: 0.01 mm-1\n",
      "\t\tMaximum deviation: 17.93%\n",
      "\t\tR2: 0.89\n",
      "KL divergence (kernel || real): 0.003535739195044528\n",
      "KL divergence (real || kernel): 0.003696060113558761\n",
      "Wasserstein distance: 0.004092818661305949\n",
      "Isotope: Cu64\n",
      "\tVoxel step size: 0.10 mm\n",
      "\tMaximum kernel PR in x-axis: 2.05 mm\n",
      "\tMaximum simulated PR: 2.59 mm\n",
      "\t90% yield simulated PR: 1.07 mm\n",
      "\t99% yield simulated PR: 1.63 mm\n"
     ]
    },
    {
     "name": "stderr",
     "output_type": "stream",
     "text": [
      "100%|██████████| 34460/34460 [00:02<00:00, 12102.54it/s]\n"
     ]
    },
    {
     "name": "stdout",
     "output_type": "stream",
     "text": [
      "\tFrom x=0 to |x|=r_99.0%:\n",
      "\t\tRMSE: 0.02 mm-1\n",
      "\t\tMaximum deviation: 13.98%\n",
      "\t\tR2: 0.76\n",
      "KL divergence (kernel || real): 0.002372632105814687\n",
      "KL divergence (real || kernel): 0.002465340818259842\n",
      "Wasserstein distance: 0.00864789513040921\n",
      "Isotope: Ga68\n",
      "\tVoxel step size: 0.30 mm\n",
      "\tMaximum kernel PR in x-axis: 6.15 mm\n",
      "\tMaximum simulated PR: 9.55 mm\n",
      "\t90% yield simulated PR: 4.59 mm\n",
      "\t99% yield simulated PR: 6.48 mm\n"
     ]
    },
    {
     "name": "stderr",
     "output_type": "stream",
     "text": [
      "100%|██████████| 34460/34460 [00:03<00:00, 10490.01it/s]\n"
     ]
    },
    {
     "name": "stdout",
     "output_type": "stream",
     "text": [
      "\tFrom x=0 to |x|=r_99.0%:\n",
      "\t\tRMSE: 0.01 mm-1\n",
      "\t\tMaximum deviation: 9.76%\n",
      "\t\tR2: 0.92\n",
      "KL divergence (kernel || real): 0.0007297989184465727\n",
      "KL divergence (real || kernel): 0.0007496942092379182\n",
      "Wasserstein distance: 0.009552702688000451\n",
      "Isotope: Rb82\n",
      "\tVoxel step size: 0.50 mm\n",
      "\tMaximum kernel PR in x-axis: 10.25 mm\n",
      "\tMaximum simulated PR: 16.86 mm\n",
      "\t90% yield simulated PR: 9.03 mm\n",
      "\t99% yield simulated PR: 12.51 mm\n"
     ]
    },
    {
     "name": "stderr",
     "output_type": "stream",
     "text": [
      "100%|██████████| 34460/34460 [00:03<00:00, 10135.27it/s]\n"
     ]
    },
    {
     "name": "stdout",
     "output_type": "stream",
     "text": [
      "\tFrom x=0 to |x|=r_99.0%:\n",
      "\t\tRMSE: 0.00 mm-1\n",
      "\t\tMaximum deviation: 6.18%\n",
      "\t\tR2: 0.94\n",
      "KL divergence (kernel || real): 0.0002940304624677461\n",
      "KL divergence (real || kernel): 0.0002978763023874923\n",
      "Wasserstein distance: 0.0165560716001859\n",
      "Isotope: I124\n",
      "\tVoxel step size: 0.35 mm\n",
      "\tMaximum kernel PR in x-axis: 7.17 mm\n",
      "\tMaximum simulated PR: 10.19 mm\n",
      "\t90% yield simulated PR: 4.72 mm\n",
      "\t99% yield simulated PR: 7.22 mm\n"
     ]
    },
    {
     "name": "stderr",
     "output_type": "stream",
     "text": [
      "100%|██████████| 34460/34460 [00:03<00:00, 9879.22it/s] "
     ]
    },
    {
     "name": "stdout",
     "output_type": "stream",
     "text": [
      "\tFrom x=0 to |x|=r_99.0%:\n",
      "\t\tRMSE: 0.00 mm-1\n",
      "\t\tMaximum deviation: 6.60%\n",
      "\t\tR2: 0.96\n",
      "KL divergence (kernel || real): 0.00042702824451187513\n",
      "KL divergence (real || kernel): 0.0004331832965387305\n",
      "Wasserstein distance: 0.00752549039599512\n"
     ]
    },
    {
     "name": "stderr",
     "output_type": "stream",
     "text": [
      "\n"
     ]
    }
   ],
   "source": [
    "def get_params(_iso, _fitFile):\n",
    "    _params = []\n",
    "    with open(_fitFile, \"r\") as f:\n",
    "        lines = f.readlines()\n",
    "        for line in lines:\n",
    "            if line.startswith(_iso):\n",
    "                _params = [float(x) for x in line.split()[4:]]\n",
    "                break\n",
    "    return _params\n",
    "\n",
    "pfolder = \"PenEasy2024_xyz\"\n",
    "fitFile_preffix = \"SPC\"\n",
    "fitFile_suffix = \"n_is_param\"\n",
    "kernel_specs = {\n",
    "    \"C11\" :([41]*3, [.10/10]*3), # voxel size in cm\n",
    "    \"N13\" :([41]*3, [.15/10]*3), # voxel size in cm\n",
    "    \"O15\" :([41]*3, [.25/10]*3), # voxel size in cm\n",
    "    \"F18\" :([41]*3, [.05/10]*3), # voxel size in cm\n",
    "    \"Cu64\":([41]*3, [.10/10]*3), # voxel size in cm\n",
    "    \"Ga68\":([41]*3, [.30/10]*3), # voxel size in cm\n",
    "    \"Rb82\":([41]*3, [.50/10]*3), # voxel size in cm\n",
    "    \"I124\":([41]*3, [.35/10]*3), # voxel size in cm\n",
    "}\n",
    "\n",
    "isotopes = [\"C11\", \"N13\", \"O15\", \"F18\", \"Cu64\", \"Ga68\", \"Rb82\", \"I124\"]  # , \"Ga68\", \"Rb82\"\n",
    "print_final_table = False\n",
    "if print_final_table:\n",
    "    print(r\"\\begin{table}[H]\")\n",
    "    print(r\"\\centering\")\n",
    "    print(r\"\\begin{tabular}{|c|c|c|c|c|c|c|c|}\")\n",
    "    print(r\"\\toprule\")\n",
    "    print(r\"Isotope & Kernel size & Voxel size (mm) & 90\\% yield PR (mm) & 99\\% yield PR (mm) & RMSE (mm$^{-1}$) & Max. deviation (\\%) & R$^2$ \\\\\")\n",
    "    print(r\"\\midrule\")\n",
    "\n",
    "for iso in isotopes:\n",
    "    data_file = f\"RESULTS/SPC/Water/{pfolder}/{iso}.dat\"\n",
    "    kernel_size, kernel_step = kernel_specs[iso]\n",
    "    simul_data = PRAnalysis(f\"{iso} {pfolder}\", data_file, SIZE=kernel_size, STEP=kernel_step) \n",
    "    xdata = simul_data.xp*10\n",
    "    real_aPSFx = simul_data.aPSFx\n",
    "\n",
    "    if not print_final_table:\n",
    "        print(f\"Isotope: {iso}\")\n",
    "        print(f\"\\tVoxel step size: {kernel_step[0]*10:.2f} mm\")\n",
    "        print(f\"\\tMaximum kernel PR in x-axis: {simul_data.Xmax*10:.2f} mm\")\n",
    "        print(f\"\\tMaximum simulated PR: {simul_data.rmax*10:.2f} mm\")\n",
    "        print(f\"\\t90% yield simulated PR: {simul_data.interpol_G3D(0.9)*10:.2f} mm\")\n",
    "        print(f\"\\t99% yield simulated PR: {simul_data.interpol_G3D(0.99)*10:.2f} mm\")\n",
    "\n",
    "    # Get fitting parameters\n",
    "    if iso in SB.keys():\n",
    "        fit_file = f\"RESULTS/SPC/Water/{pfolder}/{fitFile_preffix}-sb_fit-{fitFile_suffix}.txt\"\n",
    "        fit_func, argsP, argsC = fitPRd.MBfit_function(100)\n",
    "        params = get_params(iso, fit_file)\n",
    "\n",
    "    elif iso in MB.keys():\n",
    "        fit_file = f\"RESULTS/MB/Water/{pfolder}/{fitFile_preffix}-mb_fit-{fitFile_suffix}.txt\"\n",
    "        weights = [b[3]*100 for b in MB[iso]['branches']]\n",
    "        fit_func, argsP, argsC = fitPRd.MBfit_function(*weights)\n",
    "        params = []\n",
    "        for i in range(len(weights)):\n",
    "            isob = f\"{iso}-b{i+1}\"\n",
    "            params += get_params(isob, fit_file)\n",
    "\n",
    "    fit_func.fitted_params = params\n",
    "    aPSF3D_tmp = fit_func.get_aPSF3D()\n",
    "    rmin = 1e-8\n",
    "    aPSF3D = lambda _r: aPSF3D_tmp(np.where(_r < rmin, rmin, _r))\n",
    "    aPSF_kernel_VG = VG(aPSF3D, kernel_step, kernel_size, rlim=(rmin, None), voxel_griding=3, source_griding=1, disable_tqdm=(True if print_final_table else False))\n",
    "\n",
    "    kernel_aPSFx = np.sum(aPSF_kernel_VG, axis=(1, 2))\n",
    "    kernel_aPSFx /= kernel_aPSFx.sum()\n",
    "    real_aPSFx /= real_aPSFx.sum()\n",
    "    XX = simul_data.aPSFx_range*10\n",
    "\n",
    "    rmask = 0.99\n",
    "    mask = abs(XX) <= simul_data.interpol_G3D(rmask)\n",
    "    res = kernel_aPSFx - real_aPSFx\n",
    "\n",
    "    rmse = np.sqrt(np.sum(res[mask]**2) / len(res[mask]))\n",
    "    deviation = np.abs(res[mask] / real_aPSFx[mask]) * 100\n",
    "    r2 = 1.0 - np.sum(res[mask]**2) / np.sum((real_aPSFx[mask]-np.mean(real_aPSFx[mask]))**2)\n",
    "\n",
    "    if not print_final_table:\n",
    "        print(f\"\\tFrom x=0 to |x|=r_{rmask*100}%:\")\n",
    "        print(f\"\\t\\tRMSE: {rmse:.2f} mm-1\")\n",
    "        print(f\"\\t\\tMaximum deviation: {deviation.max():.2f}%\")\n",
    "        print(f\"\\t\\tR2: {r2:.2f}\")\n",
    "        kl_kernel_real, kl_real_kernel, ws_distance = compute_divergences(kernel_aPSFx, real_aPSFx, XX)\n",
    "        print(\"KL divergence (kernel || real):\", kl_kernel_real)\n",
    "        print(\"KL divergence (real || kernel):\", kl_real_kernel)\n",
    "        print(\"Wasserstein distance:\", ws_distance)\n",
    "    else:\n",
    "        print(f\"{iso} & {kernel_size[0]:.2f} & {kernel_step[0]*10:.2f} & {simul_data.interpol_G3D(0.9)*10:.2f} & {simul_data.interpol_G3D(0.99)*10:.2f} & {rmse:.2f} & {deviation.max():.2f} & {r2:.2f} \\\\\\\\\")\n",
    "\n",
    "if print_final_table:\n",
    "    print(r\"\\bottomrule\")\n",
    "    print(r\"\\end{tabular}\")\n",
    "    print(r\"\\caption{Summary of the isotopes simulated with PenEasy.}\")\n",
    "    print(r\"\\label{tab:summary}\")\n",
    "    print(r\"\\end{table}\")"
   ]
  }
 ],
 "metadata": {
  "kernelspec": {
   "display_name": "Python 3",
   "language": "python",
   "name": "python3"
  },
  "language_info": {
   "codemirror_mode": {
    "name": "ipython",
    "version": 3
   },
   "file_extension": ".py",
   "mimetype": "text/x-python",
   "name": "python",
   "nbconvert_exporter": "python",
   "pygments_lexer": "ipython3",
   "version": "3.11.8"
  }
 },
 "nbformat": 4,
 "nbformat_minor": 2
}
