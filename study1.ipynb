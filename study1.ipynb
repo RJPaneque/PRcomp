{
 "cells": [
  {
   "cell_type": "code",
   "execution_count": 1,
   "metadata": {},
   "outputs": [],
   "source": [
    "# %cd ..\n",
    "import inputs, simuls, analysis\n",
    "import numpy as np\n",
    "results = analysis.GetResults(verbose=True)"
   ]
  },
  {
   "cell_type": "markdown",
   "metadata": {},
   "source": [
    "# PenEasy SPC simulation"
   ]
  },
  {
   "cell_type": "code",
   "execution_count": null,
   "metadata": {},
   "outputs": [],
   "source": [
    "pid = 'SPC'\n",
    "# Initialize PenEasy Input Editor\n",
    "peneasy_inps = inputs.PenEasy(verbose=True)\n",
    "\n",
    "# Initialize Simulators (identified by pid)\n",
    "peneasy_sims = simuls.PenEasy(verbose=True)\n",
    "peneasy_sims.activate_pid('SPC')"
   ]
  },
  {
   "cell_type": "code",
   "execution_count": null,
   "metadata": {},
   "outputs": [],
   "source": [
    "MATS = {'water' : ['water', 1, 1.00+00]}\n",
    "SIZE = [10, 10, 10]\n",
    "STEP = [0.4, 0.4, 0.4]  #cm\n",
    "nhist = \"1e6\"\n",
    "\n",
    "peneasy_inps.edit_voxSize(pid, SIZE, STEP)\n",
    "peneasy_inps.edit_seed(pid, 12345, 54321)\n",
    "peneasy_inps.edit_mat(pid, MATS, SIZE, STEP)\n",
    "peneasy_inps.edit_source_nhist(pid, nhist)"
   ]
  },
  {
   "cell_type": "code",
   "execution_count": null,
   "metadata": {},
   "outputs": [],
   "source": [
    "isotopes = [\"N13\", \"O15\", \"F18\", \"Cu64\", \"Ga68\", \"Rb82\", \"I124\"] #\"C11\", \n",
    "\n",
    "peneasy_inps.verbose = False\n",
    "for iso in isotopes:\n",
    "    print(f\"Simulating {iso}\")\n",
    "    peneasy_inps.edit_isotope(pid, iso)\n",
    "    peneasy_sims.simulate(pid, get_times=True, time_samples=1, output_dir=\"RESULTS/SPC-Study1-Water/PenEasy_xyz\", final_file=f\"{iso}\")"
   ]
  },
  {
   "cell_type": "markdown",
   "metadata": {},
   "source": [
    "# vGATE 9.x simulation"
   ]
  },
  {
   "cell_type": "code",
   "execution_count": null,
   "metadata": {},
   "outputs": [],
   "source": [
    "pid = '9'\n",
    "# Initialize GATE Input Editor\n",
    "gate_inps = inputs.GATE(verbose=True)\n",
    "\n",
    "# Initialize Simulators (identified by pid)\n",
    "gate_sims = simuls.GATE(verbose=True)\n",
    "gate_sims.activate_pid(pid, output_format='dat')"
   ]
  },
  {
   "cell_type": "code",
   "execution_count": null,
   "metadata": {},
   "outputs": [],
   "source": [
    "MATS = {'water' : ['Water', 6, 1.00+00]}\n",
    "SIZE = [10, 10, 10]\n",
    "STEP = [0.4, 0.4, 0.4]  #cm\n",
    "nhist = \"1e6\"\n",
    "\n",
    "gate_inps.edit_voxSize(pid, SIZE, STEP)\n",
    "gate_inps.edit_seed(pid, 12345, 54321)\n",
    "gate_inps.edit_mat(pid, MATS, SIZE, STEP)\n",
    "gate_inps.edit_source_nhist(pid, nhist)"
   ]
  },
  {
   "cell_type": "code",
   "execution_count": null,
   "metadata": {},
   "outputs": [],
   "source": [
    "isotopes = [\"C11\", \"N13\", \"O15\", \"F18\", \"Cu64\", \"Ga68\", \"Rb82\", \"I124\"] #\n",
    "res_folder = \"RESULTS/SPC/Water/GATE93_xyz\"\n",
    "\n",
    "gate_inps.verbose = False\n",
    "for iso in isotopes:\n",
    "    print(f\"Simulating {iso}\")\n",
    "    gate_inps.edit_isotope(pid, iso)\n",
    "    gate_sims.simulate(pid, get_times=True, time_samples=1, output_dir=res_folder, final_file=f\"{iso}\")\n"
   ]
  },
  {
   "cell_type": "code",
   "execution_count": null,
   "metadata": {},
   "outputs": [],
   "source": [
    "times_file = res_folder + \"/\" + pid + \"_times.txt\"\n",
    "times = np.loadtxt(times_file).astype(\"str\")\n",
    "times[:,1], times[:,0] = times[:,0], isotopes\n",
    "np.savetxt(times_file, times, fmt='%s')"
   ]
  },
  {
   "cell_type": "markdown",
   "metadata": {},
   "source": [
    "# Results analysis"
   ]
  },
  {
   "cell_type": "code",
   "execution_count": 23,
   "metadata": {},
   "outputs": [
    {
     "name": "stdout",
     "output_type": "stream",
     "text": [
      "Filtering C11\n",
      "Filtered 'RESULTS/SPC/Water/PHITS_xyz/C11.dat.original' to 'RESULTS/SPC/Water/PHITS_xyz/C11.dat': 0 points removed\n",
      "Filtering N13\n",
      "Filtered 'RESULTS/SPC/Water/PHITS_xyz/N13.dat.original' to 'RESULTS/SPC/Water/PHITS_xyz/N13.dat': 1 points removed\n",
      "Filtering O15\n",
      "Filtered 'RESULTS/SPC/Water/PHITS_xyz/O15.dat.original' to 'RESULTS/SPC/Water/PHITS_xyz/O15.dat': 3 points removed\n",
      "Filtering F18\n",
      "Filtered 'RESULTS/SPC/Water/PHITS_xyz/F18.dat.original' to 'RESULTS/SPC/Water/PHITS_xyz/F18.dat': 0 points removed\n",
      "Filtering Cu64\n",
      "Filtered 'RESULTS/SPC/Water/PHITS_xyz/Cu64.dat.original' to 'RESULTS/SPC/Water/PHITS_xyz/Cu64.dat': 0 points removed\n",
      "Filtering Ga68\n",
      "Filtered 'RESULTS/SPC/Water/PHITS_xyz/Ga68.dat.original' to 'RESULTS/SPC/Water/PHITS_xyz/Ga68.dat': 9 points removed\n",
      "Filtering Rb82\n",
      "Filtered 'RESULTS/SPC/Water/PHITS_xyz/Rb82.dat.original' to 'RESULTS/SPC/Water/PHITS_xyz/Rb82.dat': 48 points removed\n",
      "Filtering I124\n",
      "Filtered 'RESULTS/SPC/Water/PHITS_xyz/I124.dat.original' to 'RESULTS/SPC/Water/PHITS_xyz/I124.dat': 39 points removed\n"
     ]
    }
   ],
   "source": [
    "rthresh = {\"C11\" : 5, \"N13\" : 6, \"O15\" : 9, \"F18\" : 3, \"Cu64\" : 4, \"Ga68\" : 10, \"Rb82\" : 20, \"I124\" : 12}  #water\n",
    "\n",
    "program_folder = \"PHITS_xyz\"\n",
    "folder = f\"RESULTS/SPC/Water/{program_folder}\"\n",
    "trim = int(1e6)\n",
    "\n",
    "for iso in rthresh.keys():\n",
    "    if program_folder == \"GATE7_xyz\" and iso not in [\"C11\", \"O15\", \"F18\"]:\n",
    "        continue\n",
    "    print(f\"Filtering {iso}\")\n",
    "    threshold = rthresh[iso] #mm\n",
    "    analysis.filter_rmax(f\"{folder}/{iso}.dat.original\", f\"{folder}/{iso}.dat\", threshold=threshold, trim=trim, fmt='%.6f')"
   ]
  },
  {
   "cell_type": "code",
   "execution_count": null,
   "metadata": {},
   "outputs": [],
   "source": [
    "import matplotlib.pyplot as plt\n",
    "import numpy as np\n",
    "\n",
    "histo_bins = 201\n",
    "histo_step = .01 #cm\n",
    "isotopes = [\"C11\", \"N13\", \"O15\", \"F18\", \"Cu64\", \"Ga68\", \"Rb82\", \"I124\"] \n",
    "\n",
    "lowPRisotopes = [\"C11\", \"N13\", \"Cu64\", \"F18\"]\n",
    "highPRisotopes = [\"O15\", \"Ga68\", \"Rb82\", \"I124\"]\n",
    "lowPRlabels = {iso:[] for iso in lowPRisotopes}\n",
    "highPRlabels = {iso:[] for iso in highPRisotopes}\n",
    "\n",
    "results.active_results.clear()\n",
    "for iso in isotopes:\n",
    "    of = f\"RESULTS/SPC-Study1-Water/GATE92_xyz/{iso}.dat\"\n",
    "    results.load(f\"GATEv9.2 {iso}\", of, [histo_bins]*3, [histo_step]*3)\n",
    "\n",
    "    if iso in lowPRlabels:\n",
    "        lowPRlabels[iso].append(f\"GATEv9.2 {iso}\")\n",
    "    elif iso in highPRlabels:\n",
    "        highPRlabels[iso].append(f\"GATEv9.2 {iso}\")\n",
    "\n",
    "# for iso in isotopes:\n",
    "#     of = f\"RESULTS/SPC-Study1-Water/PHITS_xyz/{iso}.dat\"\n",
    "#     results.load(f\"PHITS {iso}\", of, [histo_bins]*3, [histo_step]*3)\n",
    "\n",
    "#     of = f\"RESULTS/SPC-Study1-Water/PenEasy_xyz/{iso}.dat\"\n",
    "#     results.load(f\"PenEasy {iso}\", of, [histo_bins]*3, [histo_step]*3)\n",
    "\n",
    "#     if iso in lowPRlabels:\n",
    "#         lowPRlabels[iso].append(f\"PHITS {iso}\")\n",
    "#         lowPRlabels[iso].append(f\"PenEasy {iso}\")\n",
    "#     elif iso in highPRlabels:\n",
    "#         highPRlabels[iso].append(f\"PHITS {iso}\")\n",
    "#         highPRlabels[iso].append(f\"PenEasy {iso}\")\n",
    "\n",
    "# for iso in [\"C11\", \"O15\", \"F18\"]:\n",
    "#     of = f\"RESULTS/SPC-Study1-Water/GATE7_xyz/{iso}.dat\"\n",
    "#     results.load(f\"GATE7 {iso}\", of, [histo_bins]*3, [histo_step]*3)\n",
    "\n",
    "#     if iso in lowPRlabels:\n",
    "#         lowPRlabels[iso].append(f\"GATE7 {iso}\")\n",
    "#     elif iso in highPRlabels:\n",
    "#         highPRlabels[iso].append(f\"GATE7 {iso}\")\n",
    "\n",
    "lowPRlabels_all = [label for iso in lowPRisotopes for label in lowPRlabels[iso]]\n",
    "highPRlabels_all = [label for iso in highPRisotopes for label in highPRlabels[iso]]"
   ]
  },
  {
   "cell_type": "code",
   "execution_count": null,
   "metadata": {},
   "outputs": [],
   "source": [
    "results.data_analysis()"
   ]
  },
  {
   "cell_type": "code",
   "execution_count": null,
   "metadata": {},
   "outputs": [],
   "source": [
    "results.plot_aPSFx(sin=True, log_scale=True, labels=highPRlabels[\"O15\"])"
   ]
  },
  {
   "cell_type": "code",
   "execution_count": null,
   "metadata": {},
   "outputs": [],
   "source": [
    "results.plot_aPSFx(sin=True, log_scale=True, lim=6, labels=lowPRlabels_all, legend_size=8)\n",
    "plt.show()\n",
    "results.plot_aPSFx(sin=True, log_scale=True, lim=10, labels=highPRlabels_all, legend_size=8)\n",
    "plt.show()"
   ]
  },
  {
   "cell_type": "code",
   "execution_count": null,
   "metadata": {},
   "outputs": [],
   "source": [
    "results.plot_aPSF3D(sin=True, log_scale=True, labels=lowPRlabels_all, legend_size=8)\n",
    "plt.show()\n",
    "results.plot_aPSF3D(sin=True, log_scale=True, labels=highPRlabels_all, legend_size=8)\n",
    "plt.show()\n"
   ]
  },
  {
   "cell_type": "code",
   "execution_count": null,
   "metadata": {},
   "outputs": [],
   "source": [
    "results.plot_g3D(log_scale=False, labels=lowPRlabels_all)"
   ]
  },
  {
   "cell_type": "code",
   "execution_count": null,
   "metadata": {},
   "outputs": [],
   "source": [
    "results.plot_G3D(labels=lowPRlabels_all)"
   ]
  }
 ],
 "metadata": {
  "kernelspec": {
   "display_name": "Python 3",
   "language": "python",
   "name": "python3"
  },
  "language_info": {
   "codemirror_mode": {
    "name": "ipython",
    "version": 3
   },
   "file_extension": ".py",
   "mimetype": "text/x-python",
   "name": "python",
   "nbconvert_exporter": "python",
   "pygments_lexer": "ipython3",
   "version": "3.11.8"
  }
 },
 "nbformat": 4,
 "nbformat_minor": 2
}
