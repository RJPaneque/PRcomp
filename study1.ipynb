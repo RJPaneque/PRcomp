{
 "cells": [
  {
   "cell_type": "code",
   "execution_count": 1,
   "metadata": {},
   "outputs": [],
   "source": [
    "# %cd ..\n",
    "import inputs, simuls, analysis\n",
    "import numpy as np\n",
    "results = analysis.GetResults(verbose=True)"
   ]
  },
  {
   "cell_type": "markdown",
   "metadata": {},
   "source": [
    "# PenEasy SPC simulation"
   ]
  },
  {
   "cell_type": "code",
   "execution_count": null,
   "metadata": {},
   "outputs": [],
   "source": [
    "pid = 'SPC'\n",
    "# Initialize PenEasy Input Editor\n",
    "peneasy_inps = inputs.PenEasy(verbose=True)\n",
    "\n",
    "# Initialize Simulators (identified by pid)\n",
    "peneasy_sims = simuls.PenEasy(verbose=True)\n",
    "peneasy_sims.activate_pid('SPC')"
   ]
  },
  {
   "cell_type": "code",
   "execution_count": null,
   "metadata": {},
   "outputs": [],
   "source": [
    "MATS = {'water' : ['water', 1, 1.00+00]}\n",
    "SIZE = [10, 10, 10]\n",
    "STEP = [0.4, 0.4, 0.4]  #cm\n",
    "nhist = \"1e6\"\n",
    "\n",
    "peneasy_inps.edit_voxSize(pid, SIZE, STEP)\n",
    "peneasy_inps.edit_seed(pid, 12345, 54321)\n",
    "peneasy_inps.edit_mat(pid, MATS, SIZE, STEP)\n",
    "peneasy_inps.edit_source_nhist(pid, nhist)"
   ]
  },
  {
   "cell_type": "code",
   "execution_count": null,
   "metadata": {},
   "outputs": [],
   "source": [
    "isotopes = [\"N13\", \"O15\", \"F18\", \"Cu64\", \"Ga68\", \"Rb82\", \"I124\"] #\"C11\", \n",
    "\n",
    "peneasy_inps.verbose = False\n",
    "for iso in isotopes:\n",
    "    print(f\"Simulating {iso}\")\n",
    "    peneasy_inps.edit_isotope(pid, iso)\n",
    "    peneasy_sims.simulate(pid, get_times=True, time_samples=1, output_dir=\"RESULTS/SPC-Study1-Water/PenEasy_xyz\", final_file=f\"{iso}\")"
   ]
  },
  {
   "cell_type": "markdown",
   "metadata": {},
   "source": [
    "# vGATE 9.x simulation"
   ]
  },
  {
   "cell_type": "code",
   "execution_count": 2,
   "metadata": {},
   "outputs": [
    {
     "name": "stdout",
     "output_type": "stream",
     "text": [
      "GATE 9 activated\n"
     ]
    }
   ],
   "source": [
    "pid = '9'\n",
    "# Initialize GATE Input Editor\n",
    "gate_inps = inputs.GATE(verbose=True)\n",
    "\n",
    "# Initialize Simulators (identified by pid)\n",
    "gate_sims = simuls.GATE(verbose=True)\n",
    "gate_sims.activate_pid(pid, output_format='dat')"
   ]
  },
  {
   "cell_type": "code",
   "execution_count": 3,
   "metadata": {},
   "outputs": [
    {
     "name": "stdout",
     "output_type": "stream",
     "text": [
      "\"gate/mac/actors/ProdStop.mac\" voxel dimensions modified to (10, 10, 10) and total size to (4, 4, 4) cm\n",
      "\"gate/phantom/ACTIVITY.h33\" and \"gate/phantom/MATERIAL.h33\" voxel dimensions modified to (10, 10, 10)\n",
      "\"gate/phantom/ACTIVITY.h33\" and \"gate/phantom/MATERIAL.h33\" voxel size modified to (4, 4, 4) mm\n",
      "\"gate/mac/phantoms/analytical/1mat.mac\" resized\n",
      "\"gate/mac/phantoms/analytical/2mat.mac\" resized\n",
      "\"gate/mac/phantoms/analytical/3mat.mac\" resized\n",
      "\"gate/mac/sources/shape/cylinder*.mac\" halfz resized\n",
      "\"gate/PR_GATEv7.mac gate/PR_GATEv9.mac\" random seed modified to 12345\n",
      "\"mac/phantoms/analytical/1mat.mac\" materials modified to Water (case 1)\n",
      "\"gate/PR_GATEv9.mac\" number of histories modified to 1e6\n"
     ]
    }
   ],
   "source": [
    "MATS = {'water' : ['Water', 6, 1.00+00]}\n",
    "SIZE = [10, 10, 10]\n",
    "STEP = [0.4, 0.4, 0.4]  #cm\n",
    "nhist = \"1e6\"\n",
    "\n",
    "gate_inps.edit_voxSize(pid, SIZE, STEP)\n",
    "gate_inps.edit_seed(pid, 12345, 54321)\n",
    "gate_inps.edit_mat(pid, MATS, SIZE, STEP)\n",
    "gate_inps.edit_source_nhist(pid, nhist)"
   ]
  },
  {
   "cell_type": "code",
   "execution_count": 4,
   "metadata": {},
   "outputs": [
    {
     "name": "stdout",
     "output_type": "stream",
     "text": [
      "Simulating C11\n",
      "GATE 9 real time: 294.816 +- 0.000 s\n",
      "Simulating N13\n",
      "GATE 9 real time: 251.476 +- 0.000 s\n",
      "Simulating O15\n",
      "GATE 9 real time: 235.476 +- 0.000 s\n",
      "Simulating F18\n",
      "GATE 9 real time: 207.098 +- 0.000 s\n",
      "Simulating Cu64\n",
      "GATE 9 real time: 215.424 +- 0.000 s\n",
      "Simulating Ga68\n",
      "GATE 9 real time: 235.702 +- 0.000 s\n",
      "Simulating Rb82\n",
      "GATE 9 real time: 262.688 +- 0.000 s\n",
      "Simulating I124\n",
      "GATE 9 real time: 154.105 +- 0.000 s\n"
     ]
    }
   ],
   "source": [
    "isotopes = [\"C11\", \"N13\", \"O15\", \"F18\", \"Cu64\", \"Ga68\", \"Rb82\", \"I124\"] #\n",
    "res_folder = \"RESULTS/SPC/Water/GATE93_xyz\"\n",
    "\n",
    "gate_inps.verbose = False\n",
    "for iso in isotopes:\n",
    "    print(f\"Simulating {iso}\")\n",
    "    gate_inps.edit_isotope(pid, iso)\n",
    "    gate_sims.simulate(pid, get_times=True, time_samples=1, output_dir=res_folder, final_file=f\"{iso}\")\n"
   ]
  },
  {
   "cell_type": "code",
   "execution_count": 5,
   "metadata": {},
   "outputs": [],
   "source": [
    "times_file = res_folder + \"/\" + pid + \"_times.txt\"\n",
    "times = np.loadtxt(times_file).astype(\"str\")\n",
    "times[:,1], times[:,0] = times[:,0], isotopes\n",
    "np.savetxt(times_file, times, fmt='%s')"
   ]
  },
  {
   "cell_type": "markdown",
   "metadata": {},
   "source": [
    "# Results analysis"
   ]
  },
  {
   "cell_type": "code",
   "execution_count": null,
   "metadata": {},
   "outputs": [],
   "source": [
    "import matplotlib.pyplot as plt\n",
    "import numpy as np\n",
    "\n",
    "histo_bins = 201\n",
    "histo_step = .01 #cm\n",
    "isotopes = [\"C11\", \"N13\", \"O15\", \"F18\", \"Cu64\", \"Ga68\", \"Rb82\", \"I124\"] \n",
    "\n",
    "lowPRisotopes = [\"C11\", \"N13\", \"Cu64\", \"F18\"]\n",
    "highPRisotopes = [\"O15\", \"Ga68\", \"Rb82\", \"I124\"]\n",
    "lowPRlabels = {iso:[] for iso in lowPRisotopes}\n",
    "highPRlabels = {iso:[] for iso in highPRisotopes}\n",
    "\n",
    "results.active_results.clear()\n",
    "for iso in isotopes:\n",
    "    of = f\"RESULTS/SPC-Study1-Water/GATE92_xyz/{iso}.dat\"\n",
    "    results.load(f\"GATEv9.2 {iso}\", of, [histo_bins]*3, [histo_step]*3)\n",
    "\n",
    "    if iso in lowPRlabels:\n",
    "        lowPRlabels[iso].append(f\"GATEv9.2 {iso}\")\n",
    "    elif iso in highPRlabels:\n",
    "        highPRlabels[iso].append(f\"GATEv9.2 {iso}\")\n",
    "\n",
    "# for iso in isotopes:\n",
    "#     of = f\"RESULTS/SPC-Study1-Water/PHITS_xyz/{iso}.dat\"\n",
    "#     results.load(f\"PHITS {iso}\", of, [histo_bins]*3, [histo_step]*3)\n",
    "\n",
    "#     of = f\"RESULTS/SPC-Study1-Water/PenEasy_xyz/{iso}.dat\"\n",
    "#     results.load(f\"PenEasy {iso}\", of, [histo_bins]*3, [histo_step]*3)\n",
    "\n",
    "#     if iso in lowPRlabels:\n",
    "#         lowPRlabels[iso].append(f\"PHITS {iso}\")\n",
    "#         lowPRlabels[iso].append(f\"PenEasy {iso}\")\n",
    "#     elif iso in highPRlabels:\n",
    "#         highPRlabels[iso].append(f\"PHITS {iso}\")\n",
    "#         highPRlabels[iso].append(f\"PenEasy {iso}\")\n",
    "\n",
    "# for iso in [\"C11\", \"O15\", \"F18\"]:\n",
    "#     of = f\"RESULTS/SPC-Study1-Water/GATE7_xyz/{iso}.dat\"\n",
    "#     results.load(f\"GATE7 {iso}\", of, [histo_bins]*3, [histo_step]*3)\n",
    "\n",
    "#     if iso in lowPRlabels:\n",
    "#         lowPRlabels[iso].append(f\"GATE7 {iso}\")\n",
    "#     elif iso in highPRlabels:\n",
    "#         highPRlabels[iso].append(f\"GATE7 {iso}\")\n",
    "\n",
    "lowPRlabels_all = [label for iso in lowPRisotopes for label in lowPRlabels[iso]]\n",
    "highPRlabels_all = [label for iso in highPRisotopes for label in highPRlabels[iso]]"
   ]
  },
  {
   "cell_type": "code",
   "execution_count": null,
   "metadata": {},
   "outputs": [],
   "source": [
    "results.data_analysis()"
   ]
  },
  {
   "cell_type": "code",
   "execution_count": null,
   "metadata": {},
   "outputs": [],
   "source": [
    "results.plot_aPSFx(sin=True, log_scale=True, labels=highPRlabels[\"O15\"])"
   ]
  },
  {
   "cell_type": "code",
   "execution_count": null,
   "metadata": {},
   "outputs": [],
   "source": [
    "results.plot_aPSFx(sin=True, log_scale=True, lim=6, labels=lowPRlabels_all, legend_size=8)\n",
    "plt.show()\n",
    "results.plot_aPSFx(sin=True, log_scale=True, lim=10, labels=highPRlabels_all, legend_size=8)\n",
    "plt.show()"
   ]
  },
  {
   "cell_type": "code",
   "execution_count": null,
   "metadata": {},
   "outputs": [],
   "source": [
    "results.plot_aPSF3D(sin=True, log_scale=True, labels=lowPRlabels_all, legend_size=8)\n",
    "plt.show()\n",
    "results.plot_aPSF3D(sin=True, log_scale=True, labels=highPRlabels_all, legend_size=8)\n",
    "plt.show()\n"
   ]
  },
  {
   "cell_type": "code",
   "execution_count": null,
   "metadata": {},
   "outputs": [],
   "source": [
    "results.plot_g3D(log_scale=False, labels=lowPRlabels_all)"
   ]
  },
  {
   "cell_type": "code",
   "execution_count": null,
   "metadata": {},
   "outputs": [],
   "source": [
    "results.plot_G3D(labels=lowPRlabels_all)"
   ]
  }
 ],
 "metadata": {
  "kernelspec": {
   "display_name": "Python 3",
   "language": "python",
   "name": "python3"
  },
  "language_info": {
   "codemirror_mode": {
    "name": "ipython",
    "version": 3
   },
   "file_extension": ".py",
   "mimetype": "text/x-python",
   "name": "python",
   "nbconvert_exporter": "python",
   "pygments_lexer": "ipython3",
   "version": "3.11.8"
  }
 },
 "nbformat": 4,
 "nbformat_minor": 2
}
