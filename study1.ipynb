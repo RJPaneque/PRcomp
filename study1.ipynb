{
 "cells": [
  {
   "cell_type": "code",
   "execution_count": 1,
   "metadata": {},
   "outputs": [],
   "source": [
    "# %cd ..\n",
    "import inputs, simuls, analysis\n",
    "results = analysis.GetResults(verbose=True)"
   ]
  },
  {
   "cell_type": "markdown",
   "metadata": {},
   "source": [
    "# PenEasy SPC simulation"
   ]
  },
  {
   "cell_type": "code",
   "execution_count": null,
   "metadata": {},
   "outputs": [],
   "source": [
    "pid = 'SPC'\n",
    "# Initialize PenEasy Input Editor\n",
    "peneasy_inps = inputs.PenEasy(verbose=True)\n",
    "\n",
    "# Initialize Simulators (identified by pid)\n",
    "peneasy_sims = simuls.PenEasy(verbose=True)\n",
    "peneasy_sims.activate_pid('SPC')"
   ]
  },
  {
   "cell_type": "code",
   "execution_count": null,
   "metadata": {},
   "outputs": [],
   "source": [
    "MATS = {'water' : ['water', 1, 1.00+00]}\n",
    "SIZE = [10, 10, 10]\n",
    "STEP = [0.4, 0.4, 0.4]  #cm\n",
    "nhist = \"1e6\"\n",
    "\n",
    "peneasy_inps.edit_voxSize(pid, SIZE, STEP)\n",
    "peneasy_inps.edit_seed(pid, 12345, 54321)\n",
    "peneasy_inps.edit_mat(pid, MATS, SIZE, STEP)\n",
    "peneasy_inps.edit_source_nhist(pid, nhist)"
   ]
  },
  {
   "cell_type": "code",
   "execution_count": null,
   "metadata": {},
   "outputs": [],
   "source": [
    "isotopes = [\"N13\", \"O15\", \"F18\", \"Cu64\", \"Ga68\", \"Rb82\", \"I124\"] #\"C11\", \n",
    "\n",
    "peneasy_inps.verbose = False\n",
    "for iso in isotopes:\n",
    "    print(f\"Simulating {iso}\")\n",
    "    peneasy_inps.edit_isotope(pid, iso)\n",
    "    peneasy_sims.simulate(pid, get_times=True, time_samples=1, output_dir=\"RESULTS/SPC-Study1-Water/PenEasy_xyz\", final_file=f\"{iso}\")"
   ]
  },
  {
   "cell_type": "markdown",
   "metadata": {},
   "source": [
    "# vGATE 9.x simulation"
   ]
  },
  {
   "cell_type": "code",
   "execution_count": 2,
   "metadata": {},
   "outputs": [
    {
     "name": "stdout",
     "output_type": "stream",
     "text": [
      "GATE 9 activated\n"
     ]
    }
   ],
   "source": [
    "pid = '9'\n",
    "# Initialize GATE Input Editor\n",
    "gate_inps = inputs.GATE(verbose=True)\n",
    "\n",
    "# Initialize Simulators (identified by pid)\n",
    "gate_sims = simuls.GATE(verbose=True)\n",
    "gate_sims.activate_pid(pid, output_format='dat')"
   ]
  },
  {
   "cell_type": "code",
   "execution_count": 3,
   "metadata": {},
   "outputs": [
    {
     "name": "stdout",
     "output_type": "stream",
     "text": [
      "\"gate/mac/actors/ProdStop.mac\" voxel dimensions modified to (10, 10, 10) and total size to (4, 4, 4) cm\n",
      "\"gate/phantom/ACTIVITY.h33\" and \"gate/phantom/MATERIAL.h33\" voxel dimensions modified to (10, 10, 10)\n",
      "\"gate/phantom/ACTIVITY.h33\" and \"gate/phantom/MATERIAL.h33\" voxel size modified to (4, 4, 4) mm\n",
      "\"gate/mac/phantoms/analytical/1mat.mac\" resized\n",
      "\"gate/mac/phantoms/analytical/2mat.mac\" resized\n",
      "\"gate/mac/phantoms/analytical/3mat.mac\" resized\n",
      "\"gate/mac/sources/shape/cylinder*.mac\" halfz resized\n",
      "\"gate/PR_GATEv7.mac gate/PR_GATEv9.mac\" random seed modified to 12345\n",
      "\"mac/phantoms/analytical/1mat.mac\" materials modified to Water (case 1)\n",
      "\"gate/PR_GATEv9.mac\" number of histories modified to 1e6\n"
     ]
    }
   ],
   "source": [
    "MATS = {'water' : ['Water', 6, 1.00+00]}\n",
    "SIZE = [10, 10, 10]\n",
    "STEP = [0.4, 0.4, 0.4]  #cm\n",
    "nhist = \"1e6\"\n",
    "\n",
    "gate_inps.edit_voxSize(pid, SIZE, STEP)\n",
    "gate_inps.edit_seed(pid, 12345, 54321)\n",
    "gate_inps.edit_mat(pid, MATS, SIZE, STEP)\n",
    "gate_inps.edit_source_nhist(pid, nhist)"
   ]
  },
  {
   "cell_type": "code",
   "execution_count": 4,
   "metadata": {},
   "outputs": [
    {
     "name": "stdout",
     "output_type": "stream",
     "text": [
      "Simulating C11\n",
      "GATE 9 real time: 508.244 +- 0.000 s\n",
      "Simulating N13\n",
      "GATE 9 real time: 350.140 +- 0.000 s\n",
      "Simulating O15\n",
      "GATE 9 real time: 202.448 +- 0.000 s\n",
      "Simulating F18\n",
      "GATE 9 real time: 338.186 +- 0.000 s\n",
      "Simulating Cu64\n",
      "GATE 9 real time: 434.437 +- 0.000 s\n",
      "Simulating Ga68\n",
      "GATE 9 real time: 638.798 +- 0.000 s\n",
      "Simulating Rb82\n",
      "GATE 9 real time: 406.533 +- 0.000 s\n",
      "Simulating I124\n",
      "GATE 9 real time: 134.757 +- 0.000 s\n"
     ]
    },
    {
     "ename": "TypeError",
     "evalue": "Mismatch between array dtype ('<U32') and format specifier ('%.18e %.18e')",
     "output_type": "error",
     "traceback": [
      "\u001b[0;31m---------------------------------------------------------------------------\u001b[0m",
      "\u001b[0;31mTypeError\u001b[0m                                 Traceback (most recent call last)",
      "File \u001b[0;32m~/Desktop/PRcomp/.conda/lib/python3.11/site-packages/numpy/lib/npyio.py:1623\u001b[0m, in \u001b[0;36msavetxt\u001b[0;34m(fname, X, fmt, delimiter, newline, header, footer, comments, encoding)\u001b[0m\n\u001b[1;32m   1622\u001b[0m \u001b[38;5;28;01mtry\u001b[39;00m:\n\u001b[0;32m-> 1623\u001b[0m     v \u001b[38;5;241m=\u001b[39m \u001b[38;5;28mformat\u001b[39m \u001b[38;5;241m%\u001b[39m \u001b[38;5;28mtuple\u001b[39m(row) \u001b[38;5;241m+\u001b[39m newline\n\u001b[1;32m   1624\u001b[0m \u001b[38;5;28;01mexcept\u001b[39;00m \u001b[38;5;167;01mTypeError\u001b[39;00m \u001b[38;5;28;01mas\u001b[39;00m e:\n",
      "\u001b[0;31mTypeError\u001b[0m: must be real number, not numpy.str_",
      "\nThe above exception was the direct cause of the following exception:\n",
      "\u001b[0;31mTypeError\u001b[0m                                 Traceback (most recent call last)",
      "Cell \u001b[0;32mIn[4], line 14\u001b[0m\n\u001b[1;32m     12\u001b[0m times \u001b[38;5;241m=\u001b[39m np\u001b[38;5;241m.\u001b[39mloadtxt(times_file)\u001b[38;5;241m.\u001b[39mastype(\u001b[38;5;124m\"\u001b[39m\u001b[38;5;124mstr\u001b[39m\u001b[38;5;124m\"\u001b[39m)\n\u001b[1;32m     13\u001b[0m times[:,\u001b[38;5;241m1\u001b[39m], times[:,\u001b[38;5;241m0\u001b[39m] \u001b[38;5;241m=\u001b[39m times[:,\u001b[38;5;241m0\u001b[39m], isotopes\n\u001b[0;32m---> 14\u001b[0m np\u001b[38;5;241m.\u001b[39msavetxt(times_file, times)\n",
      "File \u001b[0;32m~/Desktop/PRcomp/.conda/lib/python3.11/site-packages/numpy/lib/npyio.py:1625\u001b[0m, in \u001b[0;36msavetxt\u001b[0;34m(fname, X, fmt, delimiter, newline, header, footer, comments, encoding)\u001b[0m\n\u001b[1;32m   1623\u001b[0m             v \u001b[38;5;241m=\u001b[39m \u001b[38;5;28mformat\u001b[39m \u001b[38;5;241m%\u001b[39m \u001b[38;5;28mtuple\u001b[39m(row) \u001b[38;5;241m+\u001b[39m newline\n\u001b[1;32m   1624\u001b[0m         \u001b[38;5;28;01mexcept\u001b[39;00m \u001b[38;5;167;01mTypeError\u001b[39;00m \u001b[38;5;28;01mas\u001b[39;00m e:\n\u001b[0;32m-> 1625\u001b[0m             \u001b[38;5;28;01mraise\u001b[39;00m \u001b[38;5;167;01mTypeError\u001b[39;00m(\u001b[38;5;124m\"\u001b[39m\u001b[38;5;124mMismatch between array dtype (\u001b[39m\u001b[38;5;124m'\u001b[39m\u001b[38;5;132;01m%s\u001b[39;00m\u001b[38;5;124m'\u001b[39m\u001b[38;5;124m) and \u001b[39m\u001b[38;5;124m\"\u001b[39m\n\u001b[1;32m   1626\u001b[0m                             \u001b[38;5;124m\"\u001b[39m\u001b[38;5;124mformat specifier (\u001b[39m\u001b[38;5;124m'\u001b[39m\u001b[38;5;132;01m%s\u001b[39;00m\u001b[38;5;124m'\u001b[39m\u001b[38;5;124m)\u001b[39m\u001b[38;5;124m\"\u001b[39m\n\u001b[1;32m   1627\u001b[0m                             \u001b[38;5;241m%\u001b[39m (\u001b[38;5;28mstr\u001b[39m(X\u001b[38;5;241m.\u001b[39mdtype), \u001b[38;5;28mformat\u001b[39m)) \u001b[38;5;28;01mfrom\u001b[39;00m \u001b[38;5;21;01me\u001b[39;00m\n\u001b[1;32m   1628\u001b[0m         fh\u001b[38;5;241m.\u001b[39mwrite(v)\n\u001b[1;32m   1630\u001b[0m \u001b[38;5;28;01mif\u001b[39;00m \u001b[38;5;28mlen\u001b[39m(footer) \u001b[38;5;241m>\u001b[39m \u001b[38;5;241m0\u001b[39m:\n",
      "\u001b[0;31mTypeError\u001b[0m: Mismatch between array dtype ('<U32') and format specifier ('%.18e %.18e')"
     ]
    }
   ],
   "source": [
    "isotopes = [\"C11\", \"N13\", \"O15\", \"F18\", \"Cu64\", \"Ga68\", \"Rb82\", \"I124\"] #\n",
    "res_folder = \"RESULTS/SPC-Study1-Water/GATE92_xyz\"\n",
    "\n",
    "gate_inps.verbose = False\n",
    "for iso in isotopes:\n",
    "    print(f\"Simulating {iso}\")\n",
    "    gate_inps.edit_isotope(pid, iso)\n",
    "    gate_sims.simulate(pid, get_times=True, time_samples=1, output_dir=res_folder, final_file=f\"{iso}\")\n"
   ]
  },
  {
   "cell_type": "code",
   "execution_count": 8,
   "metadata": {},
   "outputs": [],
   "source": [
    "import numpy as np\n",
    "times_file = res_folder + \"/\" + pid + \"_times.txt\"\n",
    "times = np.loadtxt(times_file).astype(\"str\")\n",
    "times[:,1], times[:,0] = times[:,0], isotopes\n",
    "np.savetxt(times_file, times, fmt='%s')"
   ]
  },
  {
   "cell_type": "markdown",
   "metadata": {},
   "source": [
    "# Results analysis"
   ]
  },
  {
   "cell_type": "code",
   "execution_count": null,
   "metadata": {},
   "outputs": [],
   "source": [
    "import matplotlib.pyplot as plt\n",
    "import numpy as np\n",
    "\n",
    "histo_bins = 201\n",
    "histo_step = .01 #cm\n",
    "isotopes = [\"C11\", \"N13\", \"O15\", \"F18\", \"Cu64\", \"Ga68\", \"Rb82\", \"I124\"] \n",
    "\n",
    "lowPRisotopes = [\"C11\", \"N13\", \"Cu64\", \"F18\"]\n",
    "highPRisotopes = [\"O15\", \"Ga68\", \"Rb82\", \"I124\"]\n",
    "lowPRlabels = {iso:[] for iso in lowPRisotopes}\n",
    "highPRlabels = {iso:[] for iso in highPRisotopes}\n",
    "\n",
    "results.active_results.clear()\n",
    "for iso in isotopes:\n",
    "    of = f\"RESULTS/SPC-Study1-Water/GATE92_xyz/{iso}.dat\"\n",
    "    results.load(f\"GATEv9.2 {iso}\", of, [histo_bins]*3, [histo_step]*3)\n",
    "\n",
    "    if iso in lowPRlabels:\n",
    "        lowPRlabels[iso].append(f\"GATEv9.2 {iso}\")\n",
    "    elif iso in highPRlabels:\n",
    "        highPRlabels[iso].append(f\"GATEv9.2 {iso}\")\n",
    "\n",
    "# for iso in isotopes:\n",
    "#     of = f\"RESULTS/SPC-Study1-Water/PHITS_xyz/{iso}.dat\"\n",
    "#     results.load(f\"PHITS {iso}\", of, [histo_bins]*3, [histo_step]*3)\n",
    "\n",
    "#     of = f\"RESULTS/SPC-Study1-Water/PenEasy_xyz/{iso}.dat\"\n",
    "#     results.load(f\"PenEasy {iso}\", of, [histo_bins]*3, [histo_step]*3)\n",
    "\n",
    "#     if iso in lowPRlabels:\n",
    "#         lowPRlabels[iso].append(f\"PHITS {iso}\")\n",
    "#         lowPRlabels[iso].append(f\"PenEasy {iso}\")\n",
    "#     elif iso in highPRlabels:\n",
    "#         highPRlabels[iso].append(f\"PHITS {iso}\")\n",
    "#         highPRlabels[iso].append(f\"PenEasy {iso}\")\n",
    "\n",
    "# for iso in [\"C11\", \"O15\", \"F18\"]:\n",
    "#     of = f\"RESULTS/SPC-Study1-Water/GATE7_xyz/{iso}.dat\"\n",
    "#     results.load(f\"GATE7 {iso}\", of, [histo_bins]*3, [histo_step]*3)\n",
    "\n",
    "#     if iso in lowPRlabels:\n",
    "#         lowPRlabels[iso].append(f\"GATE7 {iso}\")\n",
    "#     elif iso in highPRlabels:\n",
    "#         highPRlabels[iso].append(f\"GATE7 {iso}\")\n",
    "\n",
    "lowPRlabels_all = [label for iso in lowPRisotopes for label in lowPRlabels[iso]]\n",
    "highPRlabels_all = [label for iso in highPRisotopes for label in highPRlabels[iso]]"
   ]
  },
  {
   "cell_type": "code",
   "execution_count": null,
   "metadata": {},
   "outputs": [],
   "source": [
    "results.data_analysis()"
   ]
  },
  {
   "cell_type": "code",
   "execution_count": null,
   "metadata": {},
   "outputs": [],
   "source": [
    "results.plot_aPSFx(sin=True, log_scale=True, labels=highPRlabels[\"O15\"])"
   ]
  },
  {
   "cell_type": "code",
   "execution_count": null,
   "metadata": {},
   "outputs": [],
   "source": [
    "results.plot_aPSFx(sin=True, log_scale=True, lim=6, labels=lowPRlabels_all, legend_size=8)\n",
    "plt.show()\n",
    "results.plot_aPSFx(sin=True, log_scale=True, lim=10, labels=highPRlabels_all, legend_size=8)\n",
    "plt.show()"
   ]
  },
  {
   "cell_type": "code",
   "execution_count": null,
   "metadata": {},
   "outputs": [],
   "source": [
    "results.plot_aPSF3D(sin=True, log_scale=True, labels=lowPRlabels_all, legend_size=8)\n",
    "plt.show()\n",
    "results.plot_aPSF3D(sin=True, log_scale=True, labels=highPRlabels_all, legend_size=8)\n",
    "plt.show()\n"
   ]
  },
  {
   "cell_type": "code",
   "execution_count": null,
   "metadata": {},
   "outputs": [],
   "source": [
    "results.plot_g3D(log_scale=False, labels=lowPRlabels_all)"
   ]
  },
  {
   "cell_type": "code",
   "execution_count": null,
   "metadata": {},
   "outputs": [],
   "source": [
    "results.plot_G3D(labels=lowPRlabels_all)"
   ]
  }
 ],
 "metadata": {
  "kernelspec": {
   "display_name": "Python 3",
   "language": "python",
   "name": "python3"
  },
  "language_info": {
   "codemirror_mode": {
    "name": "ipython",
    "version": 3
   },
   "file_extension": ".py",
   "mimetype": "text/x-python",
   "name": "python",
   "nbconvert_exporter": "python",
   "pygments_lexer": "ipython3",
   "version": "3.11.8"
  }
 },
 "nbformat": 4,
 "nbformat_minor": 2
}
