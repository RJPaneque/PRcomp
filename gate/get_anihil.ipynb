{
 "cells": [
  {
   "cell_type": "code",
   "execution_count": 8,
   "metadata": {},
   "outputs": [
    {
     "data": {
      "text/plain": [
       "{'fragments;1': 'TH1F'}"
      ]
     },
     "execution_count": 8,
     "metadata": {},
     "output_type": "execute_result"
    }
   ],
   "source": [
    "import uproot\n",
    "import awkward as ak\n",
    "\n",
    "import numpy as np\n",
    "import matplotlib.pylab as plt\n",
    "\n",
    "def getValues(array, key):\n",
    "    return array.arrays([key], library=\"np\")[key]\n",
    "\n",
    "infile_name = \"output/Prod-Secondaries.root\"\n",
    "infile = uproot.open(infile_name)\n",
    "infile.classnames()"
   ]
  },
  {
   "cell_type": "code",
   "execution_count": 15,
   "metadata": {},
   "outputs": [
    {
     "name": "stdout",
     "output_type": "stream",
     "text": [
      "<TH1F (version 2) at 0x7f43411a4f50>\n"
     ]
    }
   ],
   "source": [
    "ps = infile['fragments']\n",
    "print(ps)\n",
    "# print(f\"Number of sings elements: {len(ps)}\")\n",
    "# print(sing.show())\n",
    "# print(f\"\\n\\nNumber of coins elements: {len(coin)}\")\n",
    "# print(coin.show())"
   ]
  },
  {
   "cell_type": "code",
   "execution_count": 137,
   "metadata": {},
   "outputs": [],
   "source": [
    "eventID1 = getValues(coin, 'eventID1')\n",
    "eventID2 = getValues(coin, 'eventID2')\n",
    "time = getValues(coin, 'time1')\n",
    "randoms = time[eventID1 != eventID2]\n"
   ]
  },
  {
   "cell_type": "code",
   "execution_count": 138,
   "metadata": {},
   "outputs": [
    {
     "data": {
      "image/png": "[encoded data removed]",
      "text/plain": [
       "<Figure size 640x480 with 1 Axes>"
      ]
     },
     "metadata": {},
     "output_type": "display_data"
    }
   ],
   "source": [
    "ad1 = getValues(coin, 'globalPosZ1')\n",
    "ad2 = getValues(coin, 'globalPosZ2')\n",
    "plt.hist(np.concatenate((ad1, ad2)), histtype='step', bins=200)\n",
    "plt.show()"
   ]
  },
  {
   "cell_type": "code",
   "execution_count": 139,
   "metadata": {},
   "outputs": [],
   "source": [
    "z = (ad1+ad2)*0.5\n",
    "compt1 = getValues(coin, 'comptonPhantom1')\n",
    "compt2 = getValues(coin, 'comptonPhantom2')\n",
    "rayl1 = getValues(coin, 'RayleighPhantom1')\n",
    "rayl2 = getValues(coin, 'RayleighPhantom2')\n",
    "mask =  ((compt1==0) & (compt2==0) & (rayl1==0) & (rayl2==0))\n",
    "tuc = z[mask]       # True unscattered coincidences (tuc)    \n",
    "tsc = z[~mask]      # True scattered coincindences (tsc)\n"
   ]
  },
  {
   "cell_type": "code",
   "execution_count": 140,
   "metadata": {},
   "outputs": [],
   "source": [
    "import re\n",
    "stat_file = \"stat.txt\"\n",
    "nb_eventsID = \"# NumberOfEvents = \"\n",
    "fd = open(stat_file, 'r').read()\n",
    "g = r'' + nb_eventsID + '\\w+'     # binary + #NumberOfEvents + whatever follows\n",
    "nb_events = int(re.search(g, fd).group(0)[len(nb_eventsID):])"
   ]
  },
  {
   "cell_type": "code",
   "execution_count": 141,
   "metadata": {},
   "outputs": [
    {
     "name": "stdout",
     "output_type": "stream",
     "text": [
      "Number of histories                     32469086\n",
      "Number of singles                       1041972\n",
      "Number of coincidences                  156414\n",
      "Number of randoms                       27\n",
      "True unscattered coincindences          154911\n",
      "True scattered coincindences            1503\n",
      "Absolute sensibility                    0.48%\n"
     ]
    }
   ],
   "source": [
    "print(f\"{'Number of histories':40s}{nb_events}\")\n",
    "print(f\"{'Number of singles':40s}{len(getValues(sing, 'runID'))}\")\n",
    "print(f\"{'Number of coincidences':40s}{len(getValues(coin, 'runID'))}\")\n",
    "print(f\"{'Number of randoms':40s}{len(randoms)}\")\n",
    "print(f\"{'True unscattered coincindences':40s}{len(tuc)}\")\n",
    "print(f\"{'True scattered coincindences':40s}{len(tsc)}\")\n",
    "print(f\"{'Absolute sensibility':40s}{len(tuc)/nb_events*100:0.2f}%\")\n"
   ]
  }
 ],
 "metadata": {
  "kernelspec": {
   "display_name": "Python 3",
   "language": "python",
   "name": "python3"
  },
  "language_info": {
   "codemirror_mode": {
    "name": "ipython",
    "version": 3
   },
   "file_extension": ".py",
   "mimetype": "text/x-python",
   "name": "python",
   "nbconvert_exporter": "python",
   "pygments_lexer": "ipython3",
   "version": "3.11.8"
  }
 },
 "nbformat": 4,
 "nbformat_minor": 2
}
