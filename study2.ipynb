{
 "cells": [
  {
   "cell_type": "code",
   "execution_count": 1,
   "metadata": {},
   "outputs": [],
   "source": [
    "# %cd ..\n",
    "import inputs, simuls, analysis\n",
    "results = analysis.GetResults(verbose=True)"
   ]
  },
  {
   "cell_type": "markdown",
   "metadata": {},
   "source": [
    "# PenEasy SPC simulation"
   ]
  },
  {
   "cell_type": "code",
   "execution_count": null,
   "metadata": {},
   "outputs": [],
   "source": [
    "pid = 'SPC'\n",
    "# Initialize PenEasy Input Editor\n",
    "peneasy_inps = inputs.PenEasy(verbose=True)\n",
    "\n",
    "# Initialize Simulators (identified by pid)\n",
    "peneasy_sims = simuls.PenEasy(verbose=True)\n",
    "peneasy_sims.activate_pid('SPC')"
   ]
  },
  {
   "cell_type": "code",
   "execution_count": null,
   "metadata": {},
   "outputs": [],
   "source": [
    "MATS = {'water' : ['water', 1, 1.00+00]}\n",
    "SIZE = [10, 10, 10]\n",
    "STEP = [0.4, 0.4, 0.4]  #cm\n",
    "nhist = \"1e6\"\n",
    "\n",
    "peneasy_inps.edit_voxSize(pid, SIZE, STEP)\n",
    "peneasy_inps.edit_seed(pid, 12345, 54321)\n",
    "peneasy_inps.edit_mat(pid, MATS, SIZE, STEP)\n",
    "peneasy_inps.edit_source_nhist(pid, nhist)"
   ]
  },
  {
   "cell_type": "code",
   "execution_count": null,
   "metadata": {},
   "outputs": [],
   "source": [
    "isotopes = [\"N13\", \"O15\", \"F18\", \"Cu64\", \"Ga68\", \"Rb82\", \"I124\"] #\"C11\", \n",
    "\n",
    "peneasy_inps.verbose = False\n",
    "for iso in isotopes:\n",
    "    print(f\"Simulating {iso}\")\n",
    "    peneasy_inps.edit_isotope(pid, iso)\n",
    "    peneasy_sims.simulate(pid, get_times=True, time_samples=1, output_dir=\"RESULTS/SPC-Study1-Water/PenEasy_xyz\", final_file=f\"{iso}\")"
   ]
  },
  {
   "cell_type": "markdown",
   "metadata": {},
   "source": [
    "# vGATE 9.x simulation"
   ]
  },
  {
   "cell_type": "code",
   "execution_count": 2,
   "metadata": {},
   "outputs": [
    {
     "name": "stdout",
     "output_type": "stream",
     "text": [
      "GATE 9 activated\n"
     ]
    }
   ],
   "source": [
    "pid = '9'\n",
    "# Initialize GATE Input Editor\n",
    "gate_inps = inputs.GATE(verbose=True)\n",
    "\n",
    "# Initialize Simulators (identified by pid)\n",
    "gate_sims = simuls.GATE(verbose=True)\n",
    "gate_sims.activate_pid(pid, output_format='dat')"
   ]
  },
  {
   "cell_type": "code",
   "execution_count": 8,
   "metadata": {},
   "outputs": [],
   "source": [
    "nhist = \"1e6\"\n",
    "\n",
    "gate_inps.edit_seed(pid, 12345, 54321)\n",
    "gate_inps.edit_source_nhist(pid, nhist)"
   ]
  },
  {
   "cell_type": "code",
   "execution_count": 9,
   "metadata": {},
   "outputs": [
    {
     "name": "stdout",
     "output_type": "stream",
     "text": [
      "****SIMULATING lung****\n",
      "--Simulating C11\n",
      "GATE 9 real time: 346.377 +- 0.000 s\n",
      "--Simulating F18\n",
      "GATE 9 real time: 243.021 +- 0.000 s\n",
      "--Simulating Ga68\n",
      "GATE 9 real time: 302.887 +- 0.000 s\n",
      "****SIMULATING bone****\n",
      "--Simulating C11\n",
      "GATE 9 real time: 171.738 +- 0.000 s\n",
      "--Simulating F18\n",
      "GATE 9 real time: 183.088 +- 0.000 s\n",
      "--Simulating Ga68\n",
      "GATE 9 real time: 236.364 +- 0.000 s\n"
     ]
    }
   ],
   "source": [
    "isotopes = [\"C11\", \"F18\", \"Ga68\"] \n",
    "MATS = {\n",
    "    # SIZE     STEP (cm)   material   mat_name   mat_id  density (g/cm3)\n",
    "    ((20,)*3, (0.3,)*3 ) : {'lung' : ['LungICRP', 2,     0.30+00]},\n",
    "    ((20,)*3, (0.05,)*3) : {'bone' : ['BoneB100', 12,    1.45+00]}\n",
    "        }\n",
    "\n",
    "gate_inps.verbose = False\n",
    "for STEPnSIZE, MAT in MATS.items():\n",
    "    material = list(MAT.keys())[0]\n",
    "    print(f\"****SIMULATING {material}****\")\n",
    "\n",
    "    SIZE, STEP = STEPnSIZE\n",
    "    gate_inps.edit_voxSize(pid, SIZE, STEP)\n",
    "    gate_inps.edit_mat(pid, MAT, SIZE, STEP)\n",
    "\n",
    "    res_folder = f\"RESULTS/SPC/{material.capitalize()}/GATE93_xyz\"\n",
    "    for iso in isotopes:\n",
    "        print(f\"--Simulating {iso}\")\n",
    "        gate_inps.edit_isotope(pid, iso)\n",
    "        gate_sims.simulate(pid, get_times=True, time_samples=1, output_dir=res_folder, final_file=f\"{iso}\")\n"
   ]
  },
  {
   "cell_type": "code",
   "execution_count": 10,
   "metadata": {},
   "outputs": [],
   "source": [
    "import numpy as np\n",
    "\n",
    "for STEPnSIZE, MAT in MATS.items():\n",
    "    material = list(MAT.keys())[0]\n",
    "    res_folder = f\"RESULTS/SPC/{material.capitalize()}/GATE93_xyz\"\n",
    "    times_file = res_folder + \"/\" + pid + \"_times.txt\"\n",
    "    times = np.loadtxt(times_file).astype(\"str\")\n",
    "    times[:,1], times[:,0] = times[:,0], isotopes\n",
    "    np.savetxt(times_file, times, fmt='%s')"
   ]
  },
  {
   "cell_type": "markdown",
   "metadata": {},
   "source": [
    "# Results analysis"
   ]
  },
  {
   "cell_type": "code",
   "execution_count": null,
   "metadata": {},
   "outputs": [],
   "source": [
    "iso = \"C11\"\n",
    "\n",
    "folder = f\"RESULTS/SPC/Bone/PHITS_xyz\"\n",
    "analysis.filter_rmax(f\"{folder}/{iso}\")"
   ]
  },
  {
   "cell_type": "code",
   "execution_count": null,
   "metadata": {},
   "outputs": [],
   "source": [
    "import matplotlib.pyplot as plt\n",
    "import numpy as np\n",
    "\n",
    "histo_bins = 201\n",
    "histo_step = .01 #cm\n",
    "isotopes = [\"C11\", \"F18\", \"Ga68\"] \n",
    "\n",
    "results.active_results.clear()\n",
    "for iso in isotopes:\n",
    "    of = f\"RESULTS/SPC/Bone/GATE93_xyz/{iso}.dat\"\n",
    "    results.load(f\"GATEv9.3 {iso}\", of, [histo_bins]*3, [histo_step]*3)\n",
    "\n",
    "# for iso in isotopes:\n",
    "#     of = f\"RESULTS/SPC-Study1-Water/PHITS_xyz/{iso}.dat\"\n",
    "#     results.load(f\"PHITS {iso}\", of, [histo_bins]*3, [histo_step]*3)\n",
    "\n",
    "#     of = f\"RESULTS/SPC-Study1-Water/PenEasy_xyz/{iso}.dat\"\n",
    "#     results.load(f\"PenEasy {iso}\", of, [histo_bins]*3, [histo_step]*3)\n",
    "\n",
    "#     if iso in lowPRlabels:\n",
    "#         lowPRlabels[iso].append(f\"PHITS {iso}\")\n",
    "#         lowPRlabels[iso].append(f\"PenEasy {iso}\")\n",
    "#     elif iso in highPRlabels:\n",
    "#         highPRlabels[iso].append(f\"PHITS {iso}\")\n",
    "#         highPRlabels[iso].append(f\"PenEasy {iso}\")\n",
    "\n",
    "# for iso in [\"C11\", \"O15\", \"F18\"]:\n",
    "#     of = f\"RESULTS/SPC-Study1-Water/GATE7_xyz/{iso}.dat\"\n",
    "#     results.load(f\"GATE7 {iso}\", of, [histo_bins]*3, [histo_step]*3)\n",
    "\n",
    "#     if iso in lowPRlabels:\n",
    "#         lowPRlabels[iso].append(f\"GATE7 {iso}\")\n",
    "#     elif iso in highPRlabels:\n",
    "#         highPRlabels[iso].append(f\"GATE7 {iso}\")\n"
   ]
  },
  {
   "cell_type": "code",
   "execution_count": null,
   "metadata": {},
   "outputs": [],
   "source": [
    "results.data_analysis()"
   ]
  },
  {
   "cell_type": "code",
   "execution_count": null,
   "metadata": {},
   "outputs": [],
   "source": [
    "results.plot_aPSFx(sin=True, log_scale=True, labels=highPRlabels[\"O15\"])"
   ]
  },
  {
   "cell_type": "code",
   "execution_count": null,
   "metadata": {},
   "outputs": [],
   "source": [
    "results.plot_aPSFx(sin=True, log_scale=True, lim=6, labels=lowPRlabels_all, legend_size=8)\n",
    "plt.show()\n",
    "results.plot_aPSFx(sin=True, log_scale=True, lim=10, labels=highPRlabels_all, legend_size=8)\n",
    "plt.show()"
   ]
  },
  {
   "cell_type": "code",
   "execution_count": null,
   "metadata": {},
   "outputs": [],
   "source": [
    "results.plot_aPSF3D(sin=True, log_scale=True, labels=lowPRlabels_all, legend_size=8)\n",
    "plt.show()\n",
    "results.plot_aPSF3D(sin=True, log_scale=True, labels=highPRlabels_all, legend_size=8)\n",
    "plt.show()\n"
   ]
  },
  {
   "cell_type": "code",
   "execution_count": null,
   "metadata": {},
   "outputs": [],
   "source": [
    "results.plot_g3D(log_scale=False, labels=lowPRlabels_all)"
   ]
  },
  {
   "cell_type": "code",
   "execution_count": null,
   "metadata": {},
   "outputs": [],
   "source": [
    "results.plot_G3D(labels=lowPRlabels_all)"
   ]
  }
 ],
 "metadata": {
  "kernelspec": {
   "display_name": "Python 3",
   "language": "python",
   "name": "python3"
  },
  "language_info": {
   "codemirror_mode": {
    "name": "ipython",
    "version": 3
   },
   "file_extension": ".py",
   "mimetype": "text/x-python",
   "name": "python",
   "nbconvert_exporter": "python",
   "pygments_lexer": "ipython3",
   "version": "3.11.8"
  }
 },
 "nbformat": 4,
 "nbformat_minor": 2
}
