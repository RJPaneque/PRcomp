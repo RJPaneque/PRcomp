{
 "cells": [
  {
   "cell_type": "code",
   "execution_count": 1,
   "metadata": {},
   "outputs": [],
   "source": [
    "# %cd ..\n",
    "import numpy as np\n",
    "import inputs, simuls, analysis\n",
    "results = analysis.GetResults(verbose=True)"
   ]
  },
  {
   "cell_type": "markdown",
   "metadata": {},
   "source": [
    "# PenEasy SPC simulation"
   ]
  },
  {
   "cell_type": "code",
   "execution_count": 2,
   "metadata": {},
   "outputs": [
    {
     "name": "stdout",
     "output_type": "stream",
     "text": [
      "penEasy SPC activated\n"
     ]
    }
   ],
   "source": [
    "pid = 'SPC'\n",
    "# Initialize PenEasy Input Editor\n",
    "peneasy_inps = inputs.PenEasy(verbose=True)\n",
    "\n",
    "# Initialize Simulators (identified by pid)\n",
    "peneasy_sims = simuls.PenEasy(verbose=True)\n",
    "peneasy_sims.activate_pid('SPC')"
   ]
  },
  {
   "cell_type": "code",
   "execution_count": 3,
   "metadata": {},
   "outputs": [
    {
     "name": "stdout",
     "output_type": "stream",
     "text": [
      "\"penEasy/normal_nuc.in\" random seeds modified to 12345 and 54321\n",
      "\"penEasy/normal_spc.in\" random seeds modified to 12345 and 54321\n",
      "\"penEasy/modified.in\" random seeds modified to 12345 and 54321\n",
      "\"penEasy/normal_nuc.in\" number of histories modified to 1e6\n",
      "\"penEasy/normal_spc.in\" number of histories modified to 1e6\n",
      "\"penEasy/phantomN.vox\" updated to point source of activity 1e6\n",
      "\"penEasy/normal_nuc.in\" coordinates of box center modified to (3, 3, 3)\n",
      "\"penEasy/normal_spc.in\" coordinates of box center modified to (3, 3, 3)\n",
      "\"penEasy/phantomN.vox\" voxel size modified to (0.3, 0.3, 0.3)\n"
     ]
    }
   ],
   "source": [
    "SIZE = [20, 20, 20]\n",
    "STEP = [0.3, 0.3, 0.3]  #cm\n",
    "nhist = \"1e6\"\n",
    "\n",
    "peneasy_inps.edit_seed(pid, 12345, 54321)\n",
    "peneasy_inps.edit_source_nhist(pid, nhist)\n",
    "peneasy_inps.edit_voxSize(pid, SIZE, STEP)"
   ]
  },
  {
   "cell_type": "code",
   "execution_count": 4,
   "metadata": {},
   "outputs": [
    {
     "name": "stdout",
     "output_type": "stream",
     "text": [
      "****SIMULATING lung****\n",
      "Simulating C11\n",
      "penEasy SPC real time: 1922.989 +- 0.000 s\n",
      "Simulating F18\n",
      "penEasy SPC real time: 1794.245 +- 0.000 s\n",
      "Simulating Ga68\n",
      "penEasy SPC real time: 2140.910 +- 0.000 s\n",
      "****SIMULATING bone****\n",
      "Simulating C11\n",
      "penEasy SPC real time: 2195.662 +- 0.000 s\n",
      "Simulating F18\n",
      "penEasy SPC real time: 2069.445 +- 0.000 s\n",
      "Simulating Ga68\n",
      "penEasy SPC real time: 2447.092 +- 0.000 s\n"
     ]
    }
   ],
   "source": [
    "isotopes = [\"C11\", \"F18\", \"Ga68\"] \n",
    "MATS = [\n",
    "    #material   mat_name   mat_id  density (g/cm3)\n",
    "    {'lung' : ['lungICRP', 1,     0.30+00]},\n",
    "    {'bone' : ['boneB100', 1,     1.45+00]}\n",
    "        ]\n",
    "\n",
    "peneasy_inps.verbose = False\n",
    "for MAT in MATS:\n",
    "    material = list(MAT.keys())[0]\n",
    "    print(f\"****SIMULATING {material}****\")\n",
    "    peneasy_inps.edit_mat(pid, MAT, SIZE, STEP)\n",
    "    res_folder = f\"RESULTS/SPC/{material.capitalize()}/PenEasy_xyz\"\n",
    "    \n",
    "    for iso in isotopes:\n",
    "        print(f\"Simulating {iso}\")\n",
    "        peneasy_inps.edit_isotope(pid, iso)\n",
    "        peneasy_sims.simulate(pid, get_times=True, time_samples=1, output_dir=res_folder, final_file=f\"{iso}\")"
   ]
  },
  {
   "cell_type": "code",
   "execution_count": 5,
   "metadata": {},
   "outputs": [],
   "source": [
    "import numpy as np\n",
    "\n",
    "for MAT in MATS:\n",
    "    material = list(MAT.keys())[0]\n",
    "    # if material == 'lung':\n",
    "    #     continue\n",
    "    res_folder = f\"RESULTS/SPC/{material.capitalize()}/PenEasy_xyz\"\n",
    "    times_file = res_folder + \"/\" + pid + \"_times.txt\"\n",
    "    times = np.loadtxt(times_file).astype(\"str\")\n",
    "    times[:,1], times[:,0] = times[:,0], isotopes\n",
    "    np.savetxt(times_file, times, fmt='%s')"
   ]
  },
  {
   "cell_type": "markdown",
   "metadata": {},
   "source": [
    "# vGATE 9.x simulation"
   ]
  },
  {
   "cell_type": "code",
   "execution_count": null,
   "metadata": {},
   "outputs": [],
   "source": [
    "pid = '9'\n",
    "# Initialize GATE Input Editor\n",
    "gate_inps = inputs.GATE(verbose=True)\n",
    "\n",
    "# Initialize Simulators (identified by pid)\n",
    "gate_sims = simuls.GATE(verbose=True)\n",
    "gate_sims.activate_pid(pid, output_format='dat')"
   ]
  },
  {
   "cell_type": "code",
   "execution_count": null,
   "metadata": {},
   "outputs": [],
   "source": [
    "nhist = \"1e6\"\n",
    "\n",
    "gate_inps.edit_seed(pid, 12345, 54321)\n",
    "gate_inps.edit_source_nhist(pid, nhist)"
   ]
  },
  {
   "cell_type": "code",
   "execution_count": null,
   "metadata": {},
   "outputs": [],
   "source": [
    "isotopes = [\"C11\", \"F18\", \"Ga68\"] \n",
    "MATS = {\n",
    "    # SIZE     STEP (cm)   material   mat_name   mat_id  density (g/cm3)\n",
    "    ((20,)*3, (0.3,)*3 ) : {'lung' : ['LungICRP', 2,     0.30+00]},\n",
    "    ((20,)*3, (0.07,)*3) : {'bone' : ['BoneB100', 12,    1.45+00]}\n",
    "        }\n",
    "\n",
    "gate_inps.verbose = False\n",
    "for STEPnSIZE, MAT in MATS.items():\n",
    "    material = list(MAT.keys())[0]\n",
    "    # if material == 'lung':\n",
    "    #     continue\n",
    "    print(f\"****SIMULATING {material}****\")\n",
    "\n",
    "    SIZE, STEP = STEPnSIZE\n",
    "    gate_inps.edit_voxSize(pid, SIZE, STEP)\n",
    "    gate_inps.edit_mat(pid, MAT, SIZE, STEP)\n",
    "\n",
    "    res_folder = f\"RESULTS/SPC/{material.capitalize()}/GATE93_xyz\"\n",
    "    for iso in isotopes:\n",
    "        print(f\"--Simulating {iso}\")\n",
    "        gate_inps.edit_isotope(pid, iso)\n",
    "        gate_sims.simulate(pid, get_times=True, time_samples=1, output_dir=res_folder, final_file=f\"{iso}\")\n"
   ]
  },
  {
   "cell_type": "code",
   "execution_count": null,
   "metadata": {},
   "outputs": [],
   "source": [
    "import numpy as np\n",
    "\n",
    "for STEPnSIZE, MAT in MATS.items():\n",
    "    material = list(MAT.keys())[0]\n",
    "    if material == 'lung':\n",
    "        continue\n",
    "    res_folder = f\"RESULTS/SPC/{material.capitalize()}/GATE93_xyz\"\n",
    "    times_file = res_folder + \"/\" + pid + \"_times.txt\"\n",
    "    times = np.loadtxt(times_file).astype(\"str\")\n",
    "    times[:,1], times[:,0] = times[:,0], isotopes\n",
    "    np.savetxt(times_file, times, fmt='%s')"
   ]
  },
  {
   "cell_type": "markdown",
   "metadata": {},
   "source": [
    "# Results analysis"
   ]
  },
  {
   "cell_type": "code",
   "execution_count": 9,
   "metadata": {},
   "outputs": [
    {
     "name": "stdout",
     "output_type": "stream",
     "text": [
      "Filtering C11\n",
      "Filtered 'RESULTS/SPC/Lung/PHITS_xyz/C11.dat.original' to 'RESULTS/SPC/Lung/PHITS_xyz/C11.dat': 0 points removed\n",
      "Filtering F18\n",
      "Filtered 'RESULTS/SPC/Lung/PHITS_xyz/F18.dat.original' to 'RESULTS/SPC/Lung/PHITS_xyz/F18.dat': 1 points removed\n",
      "Filtering Ga68\n",
      "Filtered 'RESULTS/SPC/Lung/PHITS_xyz/Ga68.dat.original' to 'RESULTS/SPC/Lung/PHITS_xyz/Ga68.dat': 5 points removed\n"
     ]
    }
   ],
   "source": [
    "program_folder = \"PHITS_xyz\"\n",
    "mat = \"Lung\"\n",
    "folder = f\"RESULTS/SPC/{mat}/{program_folder}\"\n",
    "trim = int(1e6)\n",
    "\n",
    "if mat == \"Bone\":\n",
    "    rthresh = {\"C11\" : 4, \"F18\" : 2, \"Ga68\" : 8}\n",
    "elif mat== \"Lung\":\n",
    "    rthresh = {\"C11\" : 15, \"F18\" : 8, \"Ga68\" : 30}\n",
    "\n",
    "for iso in rthresh.keys():\n",
    "    if program_folder == \"GATE7_xyz\" and iso not in [\"C11\", \"O15\", \"F18\"]:\n",
    "        continue\n",
    "    print(f\"Filtering {iso}\")\n",
    "    threshold = rthresh[iso] #mm\n",
    "    analysis.filter_rmax(f\"{folder}/{iso}.dat.original\", f\"{folder}/{iso}.dat\", threshold=threshold, trim=trim, fmt='%.6f')"
   ]
  },
  {
   "cell_type": "code",
   "execution_count": 3,
   "metadata": {},
   "outputs": [
    {
     "ename": "FileNotFoundError",
     "evalue": "RESULTS/SPC/Lung/PHITS_xyz/C11.dat not found.",
     "output_type": "error",
     "traceback": [
      "\u001b[0;31m---------------------------------------------------------------------------\u001b[0m",
      "\u001b[0;31mFileNotFoundError\u001b[0m                         Traceback (most recent call last)",
      "Cell \u001b[0;32mIn[3], line 20\u001b[0m\n\u001b[1;32m     18\u001b[0m \u001b[38;5;28;01mfor\u001b[39;00m p \u001b[38;5;129;01min\u001b[39;00m programs\u001b[38;5;241m.\u001b[39mkeys():\n\u001b[1;32m     19\u001b[0m     of \u001b[38;5;241m=\u001b[39m \u001b[38;5;124mf\u001b[39m\u001b[38;5;124m\"\u001b[39m\u001b[38;5;124mRESULTS/SPC/\u001b[39m\u001b[38;5;132;01m{\u001b[39;00mmat\u001b[38;5;132;01m}\u001b[39;00m\u001b[38;5;124m/\u001b[39m\u001b[38;5;132;01m{\u001b[39;00mp\u001b[38;5;132;01m}\u001b[39;00m\u001b[38;5;124m/\u001b[39m\u001b[38;5;132;01m{\u001b[39;00miso\u001b[38;5;132;01m}\u001b[39;00m\u001b[38;5;124m.dat\u001b[39m\u001b[38;5;124m\"\u001b[39m\n\u001b[0;32m---> 20\u001b[0m     results\u001b[38;5;241m.\u001b[39mload(\u001b[38;5;124mf\u001b[39m\u001b[38;5;124m\"\u001b[39m\u001b[38;5;132;01m{\u001b[39;00mprograms[p]\u001b[38;5;132;01m}\u001b[39;00m\u001b[38;5;124m \u001b[39m\u001b[38;5;132;01m{\u001b[39;00miso\u001b[38;5;132;01m}\u001b[39;00m\u001b[38;5;124m \u001b[39m\u001b[38;5;132;01m{\u001b[39;00mmat\u001b[38;5;132;01m}\u001b[39;00m\u001b[38;5;124m\"\u001b[39m, of, [histo_bins]\u001b[38;5;241m*\u001b[39m\u001b[38;5;241m3\u001b[39m, [histo_step]\u001b[38;5;241m*\u001b[39m\u001b[38;5;241m3\u001b[39m)\n",
      "File \u001b[0;32m/scratch/petgfn/Robert/PRcomp/analysis.py:181\u001b[0m, in \u001b[0;36mGetResults.load\u001b[0;34m(self, label, file, vox_num, vox_size, raw_format)\u001b[0m\n\u001b[1;32m    180\u001b[0m \u001b[38;5;28;01mdef\u001b[39;00m \u001b[38;5;21mload\u001b[39m(\u001b[38;5;28mself\u001b[39m, label:\u001b[38;5;28mstr\u001b[39m, file:\u001b[38;5;28mstr\u001b[39m, vox_num:\u001b[38;5;28mlist\u001b[39m[\u001b[38;5;28mint\u001b[39m], vox_size:\u001b[38;5;28mlist\u001b[39m[\u001b[38;5;28mfloat\u001b[39m],  raw_format\u001b[38;5;241m=\u001b[39m\u001b[38;5;124m'\u001b[39m\u001b[38;5;124mfloat32\u001b[39m\u001b[38;5;124m'\u001b[39m):    \u001b[38;5;66;03m# vox_size in cm\u001b[39;00m\n\u001b[0;32m--> 181\u001b[0m     result \u001b[38;5;241m=\u001b[39m PRAnalysis(label, file, vox_num, vox_size, raw_format)\n\u001b[1;32m    182\u001b[0m     \u001b[38;5;28mself\u001b[39m\u001b[38;5;241m.\u001b[39mactive_results\u001b[38;5;241m.\u001b[39mupdate({label:result})\n\u001b[1;32m    183\u001b[0m     \u001b[38;5;28;01mif\u001b[39;00m \u001b[38;5;28mself\u001b[39m\u001b[38;5;241m.\u001b[39mverbose:\n",
      "File \u001b[0;32m/scratch/petgfn/Robert/PRcomp/analysis.py:30\u001b[0m, in \u001b[0;36mPRAnalysis.__init__\u001b[0;34m(self, label, file, SIZE, STEP, raw_format)\u001b[0m\n\u001b[1;32m     22\u001b[0m \u001b[38;5;28mself\u001b[39m\u001b[38;5;241m.\u001b[39maPSFz_range \u001b[38;5;241m=\u001b[39m (np\u001b[38;5;241m.\u001b[39marange(\u001b[38;5;241m0\u001b[39m, \u001b[38;5;28mself\u001b[39m\u001b[38;5;241m.\u001b[39mNZ) \u001b[38;5;241m-\u001b[39m \u001b[38;5;28mself\u001b[39m\u001b[38;5;241m.\u001b[39mNZ \u001b[38;5;241m/\u001b[39m\u001b[38;5;241m/\u001b[39m \u001b[38;5;241m2\u001b[39m) \u001b[38;5;241m*\u001b[39m \u001b[38;5;28mself\u001b[39m\u001b[38;5;241m.\u001b[39mdz\n\u001b[1;32m     24\u001b[0m \u001b[38;5;250m\u001b[39m\u001b[38;5;124;03m\"\"\"---------------------------------------------------\u001b[39;00m\n\u001b[1;32m     25\u001b[0m \u001b[38;5;124;03m------LOAD  AND PROCESS DATA------\u001b[39;00m\n\u001b[1;32m     26\u001b[0m \u001b[38;5;124;03m---------------------------------------------------\"\"\"\u001b[39;00m\n\u001b[1;32m     27\u001b[0m \u001b[38;5;28;01mmatch\u001b[39;00m file\u001b[38;5;241m.\u001b[39msplit(\u001b[38;5;124m'\u001b[39m\u001b[38;5;124m.\u001b[39m\u001b[38;5;124m'\u001b[39m)[\u001b[38;5;241m-\u001b[39m\u001b[38;5;241m1\u001b[39m]:  \u001b[38;5;66;03m# file extension\u001b[39;00m\n\u001b[1;32m     28\u001b[0m     \u001b[38;5;28;01mcase\u001b[39;00m \u001b[38;5;124m'\u001b[39m\u001b[38;5;124mdat\u001b[39m\u001b[38;5;124m'\u001b[39m:\n\u001b[1;32m     29\u001b[0m         \u001b[38;5;66;03m##LOAD ANNIHILATION COORDS (in cm)\u001b[39;00m\n\u001b[0;32m---> 30\u001b[0m         data \u001b[38;5;241m=\u001b[39m np\u001b[38;5;241m.\u001b[39mloadtxt(file)     \u001b[38;5;66;03m# !!!!! MUST BE CENTERED AT 0,0,0 !!!!!\u001b[39;00m\n\u001b[1;32m     31\u001b[0m         \u001b[38;5;28mself\u001b[39m\u001b[38;5;241m.\u001b[39mxp \u001b[38;5;241m=\u001b[39m data[:, \u001b[38;5;241m0\u001b[39m]\n\u001b[1;32m     32\u001b[0m         \u001b[38;5;28mself\u001b[39m\u001b[38;5;241m.\u001b[39myp \u001b[38;5;241m=\u001b[39m data[:, \u001b[38;5;241m1\u001b[39m]\n\u001b[1;32m     33\u001b[0m         \u001b[38;5;28mself\u001b[39m\u001b[38;5;241m.\u001b[39mzp \u001b[38;5;241m=\u001b[39m data[:, \u001b[38;5;241m2\u001b[39m]\n\u001b[1;32m     34\u001b[0m         \n\u001b[1;32m     35\u001b[0m         \u001b[38;5;66;03m##PROCESS\u001b[39;00m\n\u001b[1;32m     36\u001b[0m         \u001b[38;5;28mself\u001b[39m\u001b[38;5;241m.\u001b[39mdpoints \u001b[38;5;241m=\u001b[39m data\u001b[38;5;241m.\u001b[39mshape[\u001b[38;5;241m0\u001b[39m]        \u001b[38;5;66;03m# number of 3D points\u001b[39;00m\n\u001b[1;32m     37\u001b[0m         \u001b[38;5;28mself\u001b[39m\u001b[38;5;241m.\u001b[39mdsize\u001b[38;5;241m=\u001b[39m \u001b[38;5;28mself\u001b[39m\u001b[38;5;241m.\u001b[39mdpoints            \u001b[38;5;66;03m# size of the sample\u001b[39;00m\n\u001b[1;32m     38\u001b[0m         \n\u001b[1;32m     39\u001b[0m         \u001b[38;5;66;03m#get img from coords  \u001b[39;00m\n\u001b[1;32m     40\u001b[0m         \u001b[38;5;28mself\u001b[39m\u001b[38;5;241m.\u001b[39mimg \u001b[38;5;241m=\u001b[39m np\u001b[38;5;241m.\u001b[39mzeros((\u001b[38;5;28mself\u001b[39m\u001b[38;5;241m.\u001b[39mNX, \u001b[38;5;28mself\u001b[39m\u001b[38;5;241m.\u001b[39mNY, \u001b[38;5;28mself\u001b[39m\u001b[38;5;241m.\u001b[39mNZ))\n\u001b[1;32m     41\u001b[0m         Xp \u001b[38;5;241m=\u001b[39m np\u001b[38;5;241m.\u001b[39mfloor(\u001b[38;5;28mself\u001b[39m\u001b[38;5;241m.\u001b[39mxp\u001b[38;5;241m/\u001b[39m\u001b[38;5;28mself\u001b[39m\u001b[38;5;241m.\u001b[39mdx \u001b[38;5;241m+\u001b[39m \u001b[38;5;28mself\u001b[39m\u001b[38;5;241m.\u001b[39mNX\u001b[38;5;241m/\u001b[39m\u001b[38;5;241m2\u001b[39m)\u001b[38;5;241m.\u001b[39mastype(\u001b[38;5;28mint\u001b[39m)         \u001b[38;5;66;03m# x -> i = floor(x/self.dx + NX/2)\u001b[39;00m\n\u001b[1;32m     42\u001b[0m         Yp \u001b[38;5;241m=\u001b[39m np\u001b[38;5;241m.\u001b[39mfloor(\u001b[38;5;28mself\u001b[39m\u001b[38;5;241m.\u001b[39myp\u001b[38;5;241m/\u001b[39m\u001b[38;5;28mself\u001b[39m\u001b[38;5;241m.\u001b[39mdy \u001b[38;5;241m+\u001b[39m \u001b[38;5;28mself\u001b[39m\u001b[38;5;241m.\u001b[39mNY\u001b[38;5;241m/\u001b[39m\u001b[38;5;241m2\u001b[39m)\u001b[38;5;241m.\u001b[39mastype(\u001b[38;5;28mint\u001b[39m)\n\u001b[1;32m     43\u001b[0m         Zp \u001b[38;5;241m=\u001b[39m np\u001b[38;5;241m.\u001b[39mfloor(\u001b[38;5;28mself\u001b[39m\u001b[38;5;241m.\u001b[39mzp\u001b[38;5;241m/\u001b[39m\u001b[38;5;28mself\u001b[39m\u001b[38;5;241m.\u001b[39mdz \u001b[38;5;241m+\u001b[39m \u001b[38;5;28mself\u001b[39m\u001b[38;5;241m.\u001b[39mNZ\u001b[38;5;241m/\u001b[39m\u001b[38;5;241m2\u001b[39m)\u001b[38;5;241m.\u001b[39mastype(\u001b[38;5;28mint\u001b[39m)\n\u001b[1;32m     44\u001b[0m         \u001b[38;5;28;01mfor\u001b[39;00m t \u001b[38;5;129;01min\u001b[39;00m \u001b[38;5;28mrange\u001b[39m(\u001b[38;5;28mself\u001b[39m\u001b[38;5;241m.\u001b[39mdpoints):\n\u001b[1;32m     45\u001b[0m             \u001b[38;5;28;01mif\u001b[39;00m Xp[t] \u001b[38;5;241m>\u001b[39m\u001b[38;5;241m=\u001b[39m \u001b[38;5;28mself\u001b[39m\u001b[38;5;241m.\u001b[39mNX \u001b[38;5;129;01mor\u001b[39;00m Yp[t] \u001b[38;5;241m>\u001b[39m\u001b[38;5;241m=\u001b[39m \u001b[38;5;28mself\u001b[39m\u001b[38;5;241m.\u001b[39mNY \u001b[38;5;129;01mor\u001b[39;00m Zp[t] \u001b[38;5;241m>\u001b[39m\u001b[38;5;241m=\u001b[39m \u001b[38;5;28mself\u001b[39m\u001b[38;5;241m.\u001b[39mNZ \u001b[38;5;129;01mor\u001b[39;00m \\\n\u001b[1;32m     46\u001b[0m                Xp[t] \u001b[38;5;241m<\u001b[39m \u001b[38;5;241m0\u001b[39m \u001b[38;5;129;01mor\u001b[39;00m Yp[t] \u001b[38;5;241m<\u001b[39m \u001b[38;5;241m0\u001b[39m \u001b[38;5;129;01mor\u001b[39;00m Zp[t] \u001b[38;5;241m<\u001b[39m \u001b[38;5;241m0\u001b[39m:\n\u001b[1;32m     47\u001b[0m                 \u001b[38;5;28;01mcontinue\u001b[39;00m    \u001b[38;5;66;03m# dont consider points beyond the image\u001b[39;00m\n\u001b[1;32m     48\u001b[0m \n\u001b[1;32m     49\u001b[0m             \u001b[38;5;28mself\u001b[39m\u001b[38;5;241m.\u001b[39mimg[Xp[t], Yp[t], Zp[t]] \u001b[38;5;241m+\u001b[39m\u001b[38;5;241m=\u001b[39m \u001b[38;5;241m1\u001b[39m\n\u001b[1;32m     50\u001b[0m         \n\u001b[1;32m     51\u001b[0m         \u001b[38;5;66;03m#get normalised aPSF\u001b[39;00m\n\u001b[1;32m     52\u001b[0m         \u001b[38;5;28mself\u001b[39m\u001b[38;5;241m.\u001b[39maPSFx \u001b[38;5;241m=\u001b[39m np\u001b[38;5;241m.\u001b[39mhistogram(\u001b[38;5;28mself\u001b[39m\u001b[38;5;241m.\u001b[39mxp, bins\u001b[38;5;241m=\u001b[39m\u001b[38;5;28mself\u001b[39m\u001b[38;5;241m.\u001b[39mNX, \u001b[38;5;28mrange\u001b[39m\u001b[38;5;241m=\u001b[39m[\u001b[38;5;241m-\u001b[39m\u001b[38;5;28mself\u001b[39m\u001b[38;5;241m.\u001b[39mXmax, \u001b[38;5;28mself\u001b[39m\u001b[38;5;241m.\u001b[39mXmax])[\u001b[38;5;241m0\u001b[39m]\u001b[38;5;241m.\u001b[39mastype(\u001b[38;5;124m'\u001b[39m\u001b[38;5;124mfloat64\u001b[39m\u001b[38;5;124m'\u001b[39m)\n\u001b[1;32m     53\u001b[0m         \u001b[38;5;28mself\u001b[39m\u001b[38;5;241m.\u001b[39maPSFy \u001b[38;5;241m=\u001b[39m np\u001b[38;5;241m.\u001b[39mhistogram(\u001b[38;5;28mself\u001b[39m\u001b[38;5;241m.\u001b[39myp, bins\u001b[38;5;241m=\u001b[39m\u001b[38;5;28mself\u001b[39m\u001b[38;5;241m.\u001b[39mNY, \u001b[38;5;28mrange\u001b[39m\u001b[38;5;241m=\u001b[39m[\u001b[38;5;241m-\u001b[39m\u001b[38;5;28mself\u001b[39m\u001b[38;5;241m.\u001b[39mYmax, \u001b[38;5;28mself\u001b[39m\u001b[38;5;241m.\u001b[39mYmax])[\u001b[38;5;241m0\u001b[39m]\u001b[38;5;241m.\u001b[39mastype(\u001b[38;5;124m'\u001b[39m\u001b[38;5;124mfloat64\u001b[39m\u001b[38;5;124m'\u001b[39m)\n\u001b[1;32m     54\u001b[0m         \u001b[38;5;28mself\u001b[39m\u001b[38;5;241m.\u001b[39maPSFz \u001b[38;5;241m=\u001b[39m np\u001b[38;5;241m.\u001b[39mhistogram(\u001b[38;5;28mself\u001b[39m\u001b[38;5;241m.\u001b[39mzp, bins\u001b[38;5;241m=\u001b[39m\u001b[38;5;28mself\u001b[39m\u001b[38;5;241m.\u001b[39mNZ, \u001b[38;5;28mrange\u001b[39m\u001b[38;5;241m=\u001b[39m[\u001b[38;5;241m-\u001b[39m\u001b[38;5;28mself\u001b[39m\u001b[38;5;241m.\u001b[39mZmax, \u001b[38;5;28mself\u001b[39m\u001b[38;5;241m.\u001b[39mZmax])[\u001b[38;5;241m0\u001b[39m]\u001b[38;5;241m.\u001b[39mastype(\u001b[38;5;124m'\u001b[39m\u001b[38;5;124mfloat64\u001b[39m\u001b[38;5;124m'\u001b[39m)\n\u001b[1;32m     55\u001b[0m \n\u001b[1;32m     56\u001b[0m     \u001b[38;5;28;01mcase\u001b[39;00m \u001b[38;5;124m'\u001b[39m\u001b[38;5;124mraw\u001b[39m\u001b[38;5;124m'\u001b[39m:\n\u001b[1;32m     57\u001b[0m         \u001b[38;5;66;03m##LOAD\u001b[39;00m\n\u001b[1;32m     58\u001b[0m         \u001b[38;5;28;01mwith\u001b[39;00m \u001b[38;5;28mopen\u001b[39m(file, \u001b[38;5;124m'\u001b[39m\u001b[38;5;124mrb\u001b[39m\u001b[38;5;124m'\u001b[39m) \u001b[38;5;28;01mas\u001b[39;00m f:\n\u001b[1;32m     59\u001b[0m             raw_data \u001b[38;5;241m=\u001b[39m np\u001b[38;5;241m.\u001b[39mfromfile(f, dtype\u001b[38;5;241m=\u001b[39mraw_format)\n\u001b[1;32m     60\u001b[0m         \u001b[38;5;28mself\u001b[39m\u001b[38;5;241m.\u001b[39mimg \u001b[38;5;241m=\u001b[39m np\u001b[38;5;241m.\u001b[39mreshape(raw_data, (\u001b[38;5;28mself\u001b[39m\u001b[38;5;241m.\u001b[39mNX, \u001b[38;5;28mself\u001b[39m\u001b[38;5;241m.\u001b[39mNY, \u001b[38;5;28mself\u001b[39m\u001b[38;5;241m.\u001b[39mNZ))\n\u001b[1;32m     61\u001b[0m         \n\u001b[1;32m     62\u001b[0m         \u001b[38;5;66;03m##PROCESS\u001b[39;00m\n\u001b[1;32m     63\u001b[0m         \u001b[38;5;28mself\u001b[39m\u001b[38;5;241m.\u001b[39mdpoints \u001b[38;5;241m=\u001b[39m \u001b[38;5;28mlen\u001b[39m(\u001b[38;5;28mself\u001b[39m\u001b[38;5;241m.\u001b[39mimg[\u001b[38;5;28mself\u001b[39m\u001b[38;5;241m.\u001b[39mimg \u001b[38;5;241m>\u001b[39m \u001b[38;5;241m0\u001b[39m])\n\u001b[1;32m     64\u001b[0m         \u001b[38;5;28mself\u001b[39m\u001b[38;5;241m.\u001b[39mdsize\u001b[38;5;241m=\u001b[39m np\u001b[38;5;241m.\u001b[39msum(\u001b[38;5;28mself\u001b[39m\u001b[38;5;241m.\u001b[39mimg, dtype\u001b[38;5;241m=\u001b[39mnp\u001b[38;5;241m.\u001b[39mintc)\n\u001b[1;32m     65\u001b[0m         \n\u001b[1;32m     66\u001b[0m         \u001b[38;5;66;03m#get coords from img  \u001b[39;00m\n\u001b[1;32m     67\u001b[0m         coor \u001b[38;5;241m=\u001b[39m np\u001b[38;5;241m.\u001b[39mzeros((\u001b[38;5;28mself\u001b[39m\u001b[38;5;241m.\u001b[39mdsize, \u001b[38;5;241m3\u001b[39m))\n\u001b[1;32m     68\u001b[0m         n \u001b[38;5;241m=\u001b[39m \u001b[38;5;241m0\u001b[39m\n\u001b[1;32m     69\u001b[0m         \u001b[38;5;28;01mfor\u001b[39;00m ijk \u001b[38;5;129;01min\u001b[39;00m np\u001b[38;5;241m.\u001b[39margwhere(\u001b[38;5;28mself\u001b[39m\u001b[38;5;241m.\u001b[39mimg\u001b[38;5;241m>\u001b[39m\u001b[38;5;241m0\u001b[39m)[:]:\n\u001b[1;32m     70\u001b[0m             r \u001b[38;5;241m=\u001b[39m \u001b[38;5;28mint\u001b[39m(\u001b[38;5;28mself\u001b[39m\u001b[38;5;241m.\u001b[39mimg[ ijk[\u001b[38;5;241m0\u001b[39m], ijk[\u001b[38;5;241m1\u001b[39m], ijk[\u001b[38;5;241m2\u001b[39m] ])  \u001b[38;5;66;03m# number of counts in voxel ijk\u001b[39;00m\n\u001b[1;32m     71\u001b[0m             coor[n:n\u001b[38;5;241m+\u001b[39mr,:] \u001b[38;5;241m=\u001b[39m np\u001b[38;5;241m.\u001b[39mrepeat([ijk], r, axis\u001b[38;5;241m=\u001b[39m\u001b[38;5;241m0\u001b[39m)  \u001b[38;5;66;03m# repeat ijk row number-of-counts times\u001b[39;00m\n\u001b[1;32m     72\u001b[0m             n \u001b[38;5;241m+\u001b[39m\u001b[38;5;241m=\u001b[39m r                                       \u001b[38;5;66;03m# update index for coords\u001b[39;00m\n\u001b[1;32m     73\u001b[0m         \u001b[38;5;28mself\u001b[39m\u001b[38;5;241m.\u001b[39mxp \u001b[38;5;241m=\u001b[39m (coor[:,\u001b[38;5;241m0\u001b[39m]\u001b[38;5;241m-\u001b[39m\u001b[38;5;28mself\u001b[39m\u001b[38;5;241m.\u001b[39mNX\u001b[38;5;241m/\u001b[39m\u001b[38;5;241m/\u001b[39m\u001b[38;5;241m2\u001b[39m)\u001b[38;5;241m*\u001b[39m\u001b[38;5;28mself\u001b[39m\u001b[38;5;241m.\u001b[39mdx         \u001b[38;5;66;03m# i -> x = (i - NX//2)*self.dx\u001b[39;00m\n\u001b[1;32m     74\u001b[0m         \u001b[38;5;28mself\u001b[39m\u001b[38;5;241m.\u001b[39myp \u001b[38;5;241m=\u001b[39m (coor[:,\u001b[38;5;241m1\u001b[39m]\u001b[38;5;241m-\u001b[39m\u001b[38;5;28mself\u001b[39m\u001b[38;5;241m.\u001b[39mNY\u001b[38;5;241m/\u001b[39m\u001b[38;5;241m/\u001b[39m\u001b[38;5;241m2\u001b[39m)\u001b[38;5;241m*\u001b[39m\u001b[38;5;28mself\u001b[39m\u001b[38;5;241m.\u001b[39mdy\n\u001b[1;32m     75\u001b[0m         \u001b[38;5;28mself\u001b[39m\u001b[38;5;241m.\u001b[39mzp \u001b[38;5;241m=\u001b[39m (coor[:,\u001b[38;5;241m2\u001b[39m]\u001b[38;5;241m-\u001b[39m\u001b[38;5;28mself\u001b[39m\u001b[38;5;241m.\u001b[39mNZ\u001b[38;5;241m/\u001b[39m\u001b[38;5;241m/\u001b[39m\u001b[38;5;241m2\u001b[39m)\u001b[38;5;241m*\u001b[39m\u001b[38;5;28mself\u001b[39m\u001b[38;5;241m.\u001b[39mdz\n\u001b[1;32m     76\u001b[0m         \n\u001b[1;32m     77\u001b[0m         \u001b[38;5;66;03m#get normalised aPSF\u001b[39;00m\n\u001b[1;32m     78\u001b[0m         \u001b[38;5;28mself\u001b[39m\u001b[38;5;241m.\u001b[39maPSFx \u001b[38;5;241m=\u001b[39m np\u001b[38;5;241m.\u001b[39msum(np\u001b[38;5;241m.\u001b[39msum(\u001b[38;5;28mself\u001b[39m\u001b[38;5;241m.\u001b[39mimg, \u001b[38;5;241m2\u001b[39m), \u001b[38;5;241m1\u001b[39m)\u001b[38;5;241m.\u001b[39mastype(\u001b[38;5;124m'\u001b[39m\u001b[38;5;124mfloat64\u001b[39m\u001b[38;5;124m'\u001b[39m)\n\u001b[1;32m     79\u001b[0m         \u001b[38;5;28mself\u001b[39m\u001b[38;5;241m.\u001b[39maPSFy \u001b[38;5;241m=\u001b[39m np\u001b[38;5;241m.\u001b[39msum(np\u001b[38;5;241m.\u001b[39msum(\u001b[38;5;28mself\u001b[39m\u001b[38;5;241m.\u001b[39mimg, \u001b[38;5;241m2\u001b[39m), \u001b[38;5;241m0\u001b[39m)\u001b[38;5;241m.\u001b[39mastype(\u001b[38;5;124m'\u001b[39m\u001b[38;5;124mfloat64\u001b[39m\u001b[38;5;124m'\u001b[39m)\n\u001b[1;32m     80\u001b[0m         \u001b[38;5;28mself\u001b[39m\u001b[38;5;241m.\u001b[39maPSFz \u001b[38;5;241m=\u001b[39m np\u001b[38;5;241m.\u001b[39msum(np\u001b[38;5;241m.\u001b[39msum(\u001b[38;5;28mself\u001b[39m\u001b[38;5;241m.\u001b[39mimg, \u001b[38;5;241m1\u001b[39m), \u001b[38;5;241m0\u001b[39m)\u001b[38;5;241m.\u001b[39mastype(\u001b[38;5;124m'\u001b[39m\u001b[38;5;124mfloat64\u001b[39m\u001b[38;5;124m'\u001b[39m)\n\u001b[1;32m     81\u001b[0m     \u001b[38;5;28;01mcase\u001b[39;00m\u001b[38;5;250m \u001b[39m\u001b[38;5;28;01m_\u001b[39;00m:\n\u001b[1;32m     82\u001b[0m         \u001b[38;5;28;01mraise\u001b[39;00m \u001b[38;5;167;01mFileNotFoundError\u001b[39;00m(\u001b[38;5;124m\"\u001b[39m\u001b[38;5;124mUsed a not considered file format. Please use raw or dat.\u001b[39m\u001b[38;5;124m\"\u001b[39m)\n\u001b[1;32m     84\u001b[0m \u001b[38;5;66;03m# normalise aPSF   \u001b[39;00m\n\u001b[1;32m     85\u001b[0m \u001b[38;5;28mself\u001b[39m\u001b[38;5;241m.\u001b[39maPSFx \u001b[38;5;241m/\u001b[39m\u001b[38;5;241m=\u001b[39m np\u001b[38;5;241m.\u001b[39msum(\u001b[38;5;28mself\u001b[39m\u001b[38;5;241m.\u001b[39maPSFx)\n",
      "File \u001b[0;32m/scratch/petgfn/Robert/PRcomp/.conda/lib/python3.11/site-packages/numpy/lib/_npyio_impl.py:1397\u001b[0m, in \u001b[0;36mloadtxt\u001b[0;34m(fname, dtype, comments, delimiter, converters, skiprows, usecols, unpack, ndmin, encoding, max_rows, quotechar, like)\u001b[0m\n\u001b[1;32m   1394\u001b[0m \u001b[38;5;28;01mif\u001b[39;00m \u001b[38;5;28misinstance\u001b[39m(delimiter, \u001b[38;5;28mbytes\u001b[39m):\n\u001b[1;32m   1395\u001b[0m     delimiter \u001b[38;5;241m=\u001b[39m delimiter\u001b[38;5;241m.\u001b[39mdecode(\u001b[38;5;124m'\u001b[39m\u001b[38;5;124mlatin1\u001b[39m\u001b[38;5;124m'\u001b[39m)\n\u001b[0;32m-> 1397\u001b[0m arr \u001b[38;5;241m=\u001b[39m _read(fname, dtype\u001b[38;5;241m=\u001b[39mdtype, comment\u001b[38;5;241m=\u001b[39mcomment, delimiter\u001b[38;5;241m=\u001b[39mdelimiter,\n\u001b[1;32m   1398\u001b[0m             converters\u001b[38;5;241m=\u001b[39mconverters, skiplines\u001b[38;5;241m=\u001b[39mskiprows, usecols\u001b[38;5;241m=\u001b[39musecols,\n\u001b[1;32m   1399\u001b[0m             unpack\u001b[38;5;241m=\u001b[39munpack, ndmin\u001b[38;5;241m=\u001b[39mndmin, encoding\u001b[38;5;241m=\u001b[39mencoding,\n\u001b[1;32m   1400\u001b[0m             max_rows\u001b[38;5;241m=\u001b[39mmax_rows, quote\u001b[38;5;241m=\u001b[39mquotechar)\n\u001b[1;32m   1402\u001b[0m \u001b[38;5;28;01mreturn\u001b[39;00m arr\n",
      "File \u001b[0;32m/scratch/petgfn/Robert/PRcomp/.conda/lib/python3.11/site-packages/numpy/lib/_npyio_impl.py:1012\u001b[0m, in \u001b[0;36m_read\u001b[0;34m(fname, delimiter, comment, quote, imaginary_unit, usecols, skiplines, max_rows, converters, ndmin, unpack, dtype, encoding)\u001b[0m\n\u001b[1;32m   1010\u001b[0m     fname \u001b[38;5;241m=\u001b[39m os\u001b[38;5;241m.\u001b[39mfspath(fname)\n\u001b[1;32m   1011\u001b[0m \u001b[38;5;28;01mif\u001b[39;00m \u001b[38;5;28misinstance\u001b[39m(fname, \u001b[38;5;28mstr\u001b[39m):\n\u001b[0;32m-> 1012\u001b[0m     fh \u001b[38;5;241m=\u001b[39m np\u001b[38;5;241m.\u001b[39mlib\u001b[38;5;241m.\u001b[39m_datasource\u001b[38;5;241m.\u001b[39mopen(fname, \u001b[38;5;124m'\u001b[39m\u001b[38;5;124mrt\u001b[39m\u001b[38;5;124m'\u001b[39m, encoding\u001b[38;5;241m=\u001b[39mencoding)\n\u001b[1;32m   1013\u001b[0m     \u001b[38;5;28;01mif\u001b[39;00m encoding \u001b[38;5;129;01mis\u001b[39;00m \u001b[38;5;28;01mNone\u001b[39;00m:\n\u001b[1;32m   1014\u001b[0m         encoding \u001b[38;5;241m=\u001b[39m \u001b[38;5;28mgetattr\u001b[39m(fh, \u001b[38;5;124m'\u001b[39m\u001b[38;5;124mencoding\u001b[39m\u001b[38;5;124m'\u001b[39m, \u001b[38;5;124m'\u001b[39m\u001b[38;5;124mlatin1\u001b[39m\u001b[38;5;124m'\u001b[39m)\n",
      "File \u001b[0;32m/scratch/petgfn/Robert/PRcomp/.conda/lib/python3.11/site-packages/numpy/lib/_datasource.py:192\u001b[0m, in \u001b[0;36mopen\u001b[0;34m(path, mode, destpath, encoding, newline)\u001b[0m\n\u001b[1;32m    155\u001b[0m \u001b[38;5;250m\u001b[39m\u001b[38;5;124;03m\"\"\"\u001b[39;00m\n\u001b[1;32m    156\u001b[0m \u001b[38;5;124;03mOpen `path` with `mode` and return the file object.\u001b[39;00m\n\u001b[1;32m    157\u001b[0m \n\u001b[0;32m   (...)\u001b[0m\n\u001b[1;32m    188\u001b[0m \n\u001b[1;32m    189\u001b[0m \u001b[38;5;124;03m\"\"\"\u001b[39;00m\n\u001b[1;32m    191\u001b[0m ds \u001b[38;5;241m=\u001b[39m DataSource(destpath)\n\u001b[0;32m--> 192\u001b[0m \u001b[38;5;28;01mreturn\u001b[39;00m ds\u001b[38;5;241m.\u001b[39mopen(path, mode, encoding\u001b[38;5;241m=\u001b[39mencoding, newline\u001b[38;5;241m=\u001b[39mnewline)\n",
      "File \u001b[0;32m/scratch/petgfn/Robert/PRcomp/.conda/lib/python3.11/site-packages/numpy/lib/_datasource.py:529\u001b[0m, in \u001b[0;36mDataSource.open\u001b[0;34m(self, path, mode, encoding, newline)\u001b[0m\n\u001b[1;32m    526\u001b[0m     \u001b[38;5;28;01mreturn\u001b[39;00m _file_openers[ext](found, mode\u001b[38;5;241m=\u001b[39mmode,\n\u001b[1;32m    527\u001b[0m                               encoding\u001b[38;5;241m=\u001b[39mencoding, newline\u001b[38;5;241m=\u001b[39mnewline)\n\u001b[1;32m    528\u001b[0m \u001b[38;5;28;01melse\u001b[39;00m:\n\u001b[0;32m--> 529\u001b[0m     \u001b[38;5;28;01mraise\u001b[39;00m \u001b[38;5;167;01mFileNotFoundError\u001b[39;00m(\u001b[38;5;124mf\u001b[39m\u001b[38;5;124m\"\u001b[39m\u001b[38;5;132;01m{\u001b[39;00mpath\u001b[38;5;132;01m}\u001b[39;00m\u001b[38;5;124m not found.\u001b[39m\u001b[38;5;124m\"\u001b[39m)\n",
      "\u001b[0;31mFileNotFoundError\u001b[0m: RESULTS/SPC/Lung/PHITS_xyz/C11.dat not found."
     ]
    }
   ],
   "source": [
    "import matplotlib.pyplot as plt\n",
    "import numpy as np\n",
    "\n",
    "histo_bins = 601\n",
    "histo_step = .01 #cm\n",
    "isotopes = [\"C11\", \"F18\", \"Ga68\"] \n",
    "mats = [\"Lung\", \"Bone\"]\n",
    "programs = {\"PHITS_xyz\":\"PHITS\", \n",
    "            \"PenEasy_xyz\":\"PenEasy SPC\", \n",
    "            \"GATE92_xyz\":\"GATE 9.2\", \n",
    "            \"GATE93_xyz\":\"GATE 9.3\"}\n",
    "\n",
    "PRanalysis = { mat: {iso: {p:object} for iso, p in zip(isotopes, programs.values())} for mat in mats}\n",
    "\n",
    "results.active_results.clear()\n",
    "for mat in mats:\n",
    "    for iso in isotopes:\n",
    "        for p in programs.keys():\n",
    "            of = f\"RESULTS/SPC/{mat}/{p}/{iso}.dat\"\n",
    "            results.load(f\"{programs[p]} {iso} {mat}\", of, [histo_bins]*3, [histo_step]*3)\n",
    "            #PRanalysis[mat][iso][p] = analysis.PRAnalysis()"
   ]
  },
  {
   "cell_type": "code",
   "execution_count": null,
   "metadata": {},
   "outputs": [],
   "source": [
    "results.data_analysis()"
   ]
  },
  {
   "cell_type": "code",
   "execution_count": null,
   "metadata": {},
   "outputs": [],
   "source": [
    "results.plot_aPSFx(sin=True, log_scale=True, lim=histo_bins*histo_step/2*10, legend_size=8)\n",
    "plt.show()"
   ]
  },
  {
   "cell_type": "code",
   "execution_count": null,
   "metadata": {},
   "outputs": [],
   "source": [
    "results.plot_aPSF3D(sin=True, log_scale=True, legend_size=8)\n",
    "plt.show()"
   ]
  },
  {
   "cell_type": "code",
   "execution_count": null,
   "metadata": {},
   "outputs": [],
   "source": [
    "results.plot_g3D(log_scale=False)"
   ]
  },
  {
   "cell_type": "code",
   "execution_count": null,
   "metadata": {},
   "outputs": [],
   "source": [
    "results.plot_G3D()"
   ]
  }
 ],
 "metadata": {
  "kernelspec": {
   "display_name": "Python 3",
   "language": "python",
   "name": "python3"
  },
  "language_info": {
   "codemirror_mode": {
    "name": "ipython",
    "version": 3
   },
   "file_extension": ".py",
   "mimetype": "text/x-python",
   "name": "python",
   "nbconvert_exporter": "python",
   "pygments_lexer": "ipython3",
   "version": "3.11.8"
  }
 },
 "nbformat": 4,
 "nbformat_minor": 2
}
