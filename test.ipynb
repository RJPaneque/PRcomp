{
 "cells": [
  {
   "cell_type": "markdown",
   "metadata": {},
   "source": [
    "# Input Edition"
   ]
  },
  {
   "cell_type": "markdown",
   "metadata": {},
   "source": [
    "## PenEasy "
   ]
  },
  {
   "cell_type": "code",
   "execution_count": null,
   "metadata": {},
   "outputs": [],
   "source": [
    "from inputs import PenEasy\n",
    "\n",
    "peneasy = PenEasy(verbose=True)\n",
    "pids = peneasy.available_pids"
   ]
  },
  {
   "cell_type": "markdown",
   "metadata": {},
   "source": [
    "isotope"
   ]
  },
  {
   "cell_type": "code",
   "execution_count": null,
   "metadata": {},
   "outputs": [],
   "source": [
    "for pid in ['SPC', 'NUC']:\n",
    "    peneasy.edit_isotope(pid, 'F18')\n",
    "print()\n",
    "for pid in ['SPC', 'NUC']:\n",
    "    peneasy.edit_isotope(pid, 'A1')"
   ]
  },
  {
   "cell_type": "markdown",
   "metadata": {},
   "source": [
    "voxel size"
   ]
  },
  {
   "cell_type": "code",
   "execution_count": null,
   "metadata": {},
   "outputs": [],
   "source": [
    "for pid in pids:\n",
    "    peneasy.edit_voxSize(pid, [201, 201, 151], [0.03, 0.03, 0.05])\n",
    "\n",
    "peneasy.edit_voxSize('MEME', [201, 201, 151], [0.03, 0.03, 0.05])"
   ]
  },
  {
   "cell_type": "markdown",
   "metadata": {},
   "source": [
    "seed"
   ]
  },
  {
   "cell_type": "code",
   "execution_count": null,
   "metadata": {},
   "outputs": [],
   "source": [
    "for pid in pids:\n",
    "    peneasy.edit_seed(pid)"
   ]
  },
  {
   "cell_type": "markdown",
   "metadata": {},
   "source": [
    "material"
   ]
  },
  {
   "cell_type": "code",
   "execution_count": null,
   "metadata": {},
   "outputs": [],
   "source": [
    "MATS =  {\n",
    "        # 'water':    ['water', 1, 1.01130250E+00],    \n",
    "        # 'air':      ['air', 2, 1.21000000E-03],\n",
    "        # 'lung':     ['lung', 3, 4.80000000E-01],\n",
    "        'bone':     ['bone', 4, 1.87540000E+00]\n",
    "        }\n",
    "\n",
    "for pid in pids:\n",
    "    peneasy.edit_mat(pid, MATS, [101, 101, 111], [0.03, 0.03, 0.05])"
   ]
  },
  {
   "cell_type": "code",
   "execution_count": null,
   "metadata": {},
   "outputs": [],
   "source": [
    "MATS =  {\n",
    "        'water':    ['water', 1, 1.01130250E+00],    \n",
    "        # 'air':      ['air', 2, 1.21000000E-03],\n",
    "        'lung':     ['lung', 3, 4.80000000E-01],\n",
    "        'bone':     ['bone', 4, 1.87540000E+00]\n",
    "        }\n",
    "\n",
    "# pid = 'MOD'\n",
    "# pid = 'MEME'\n",
    "pid = 'SPC'\n",
    "peneasy.edit_mat(pid, MATS, [11, 11, 11], [0.03, 0.03, 0.03])"
   ]
  },
  {
   "cell_type": "markdown",
   "metadata": {},
   "source": [
    "source"
   ]
  },
  {
   "cell_type": "code",
   "execution_count": null,
   "metadata": {},
   "outputs": [],
   "source": [
    "pid = 'MOD'\n",
    "shape = 'sphere'\n",
    "radius = 0\n",
    "peneasy.edit_source_shape(pid, shape, [0.0]*3, radius, \"1e5\", [11, 11, 11], [0.03, 0.03, 0.03])"
   ]
  },
  {
   "cell_type": "code",
   "execution_count": null,
   "metadata": {},
   "outputs": [],
   "source": [
    "for pid in pids:\n",
    "    peneasy.edit_source_nhist(pid, \"2e5\")"
   ]
  },
  {
   "cell_type": "markdown",
   "metadata": {},
   "source": [
    "## PeneloPET"
   ]
  },
  {
   "cell_type": "code",
   "execution_count": 1,
   "metadata": {},
   "outputs": [
    {
     "data": {
      "text/plain": [
       "['2020', '2024']"
      ]
     },
     "execution_count": 1,
     "metadata": {},
     "output_type": "execute_result"
    }
   ],
   "source": [
    "from inputs import PeneloPET\n",
    "\n",
    "penelopet = PeneloPET(verbose=True)\n",
    "pids = penelopet.available_pids\n",
    "pids"
   ]
  },
  {
   "cell_type": "markdown",
   "metadata": {},
   "source": [
    "isotope"
   ]
  },
  {
   "cell_type": "code",
   "execution_count": null,
   "metadata": {},
   "outputs": [
    {
     "name": "stdout",
     "output_type": "stream",
     "text": [
      "\"penelopet/work/main/source.inp\" isotope modified to 1 (F18)\n",
      "ERROR\n",
      "Error: Isotope A1 not found in penelopet/mat/isotope.inp\n"
     ]
    },
    {
     "ename": "KeyError",
     "evalue": "\"Isotope can only be edited for pids ['2020', '2024']\"",
     "output_type": "error",
     "traceback": [
      "\u001b[0;31m---------------------------------------------------------------------------\u001b[0m",
      "\u001b[0;31mKeyError\u001b[0m                                  Traceback (most recent call last)",
      "Cell \u001b[0;32mIn[3], line 4\u001b[0m\n\u001b[1;32m      2\u001b[0m penelopet\u001b[38;5;241m.\u001b[39medit_isotope(pid, \u001b[38;5;124m'\u001b[39m\u001b[38;5;124mF18\u001b[39m\u001b[38;5;124m'\u001b[39m)\n\u001b[1;32m      3\u001b[0m penelopet\u001b[38;5;241m.\u001b[39medit_isotope(pid, \u001b[38;5;124m'\u001b[39m\u001b[38;5;124mA1\u001b[39m\u001b[38;5;124m'\u001b[39m)\n\u001b[0;32m----> 4\u001b[0m \u001b[43mpenelopet\u001b[49m\u001b[38;5;241;43m.\u001b[39;49m\u001b[43medit_isotope\u001b[49m\u001b[43m(\u001b[49m\u001b[38;5;124;43m'\u001b[39;49m\u001b[38;5;124;43mMEME\u001b[39;49m\u001b[38;5;124;43m'\u001b[39;49m\u001b[43m,\u001b[49m\u001b[43m \u001b[49m\u001b[38;5;124;43m'\u001b[39;49m\u001b[38;5;124;43mA1\u001b[39;49m\u001b[38;5;124;43m'\u001b[39;49m\u001b[43m)\u001b[49m\n",
      "File \u001b[0;32m/scratch/petgfn/Robert/PRcomp/inputs.py:261\u001b[0m, in \u001b[0;36mPeneloPET.edit_isotope\u001b[0;34m(self, pid, isotope)\u001b[0m\n\u001b[1;32m    259\u001b[0m \u001b[38;5;28;01mdef\u001b[39;00m \u001b[38;5;21medit_isotope\u001b[39m(\u001b[38;5;28mself\u001b[39m, pid:\u001b[38;5;28mstr\u001b[39m, isotope:\u001b[38;5;28mstr\u001b[39m):\n\u001b[1;32m    260\u001b[0m     \u001b[38;5;28;01mif\u001b[39;00m pid \u001b[38;5;129;01mnot\u001b[39;00m \u001b[38;5;129;01min\u001b[39;00m \u001b[38;5;28mself\u001b[39m\u001b[38;5;241m.\u001b[39mavailable_pids:\n\u001b[0;32m--> 261\u001b[0m         \u001b[38;5;28;01mraise\u001b[39;00m \u001b[38;5;167;01mKeyError\u001b[39;00m(\u001b[38;5;124mf\u001b[39m\u001b[38;5;124m\"\u001b[39m\u001b[38;5;124mIsotope can only be edited for pids \u001b[39m\u001b[38;5;132;01m{\u001b[39;00m\u001b[38;5;28mself\u001b[39m\u001b[38;5;241m.\u001b[39mavailable_pids\u001b[38;5;132;01m}\u001b[39;00m\u001b[38;5;124m\"\u001b[39m)\n\u001b[1;32m    262\u001b[0m     \u001b[38;5;28mself\u001b[39m\u001b[38;5;241m.\u001b[39m_run_bin([\u001b[38;5;124mf\u001b[39m\u001b[38;5;124m\"\u001b[39m\u001b[38;5;124m./bin/penelopet/isotope.sh\u001b[39m\u001b[38;5;124m\"\u001b[39m, isotope])\n",
      "\u001b[0;31mKeyError\u001b[0m: \"Isotope can only be edited for pids ['2020', '2024']\""
     ]
    }
   ],
   "source": [
    "pid = '2020'\n",
    "penelopet.edit_isotope(pid, 'F18')\n",
    "# penelopet.edit_isotope(pid, 'A1')\n",
    "# penelopet.edit_isotope('MEME', 'A1')"
   ]
  },
  {
   "cell_type": "markdown",
   "metadata": {},
   "source": [
    "voxel size"
   ]
  },
  {
   "cell_type": "code",
   "execution_count": null,
   "metadata": {},
   "outputs": [],
   "source": [
    "pid = '2024'\n",
    "######"
   ]
  },
  {
   "cell_type": "markdown",
   "metadata": {},
   "source": [
    "seed"
   ]
  },
  {
   "cell_type": "code",
   "execution_count": 5,
   "metadata": {},
   "outputs": [
    {
     "name": "stdout",
     "output_type": "stream",
     "text": [
      "\"penelopet/work/main/main.inp\" random seeds modified to 37928 and 14809\n"
     ]
    }
   ],
   "source": [
    "pid = '2024'\n",
    "penelopet.edit_seed(pid)"
   ]
  },
  {
   "cell_type": "markdown",
   "metadata": {},
   "source": [
    "material"
   ]
  },
  {
   "cell_type": "code",
   "execution_count": 4,
   "metadata": {},
   "outputs": [
    {
     "name": "stdout",
     "output_type": "stream",
     "text": [
      "\"penelopet/work/main/object.inp\" material modified to 1 (water)\n",
      "\"penelopet/work/main/object.inp\" material modified to 1 (water)\n"
     ]
    }
   ],
   "source": [
    "MATS =  {\n",
    "        'water':    ['water', 0, 1.01130250E+00],    \n",
    "        #'air':      ['air', 0, 1.21000000E-03],\n",
    "        #'lung':     ['lung', 0, 4.80000000E-01],\n",
    "        #'bone':     ['bone_B100', 0, 1.87540000E+00]\n",
    "        }\n",
    "\n",
    "for pid in pids:\n",
    "    penelopet.edit_mat(pid, MATS)"
   ]
  },
  {
   "cell_type": "code",
   "execution_count": 6,
   "metadata": {},
   "outputs": [
    {
     "ename": "KeyError",
     "evalue": "'Heterogenous material edition is not implemented for PeneloPET'",
     "output_type": "error",
     "traceback": [
      "\u001b[0;31m---------------------------------------------------------------------------\u001b[0m",
      "\u001b[0;31mKeyError\u001b[0m                                  Traceback (most recent call last)",
      "Cell \u001b[0;32mIn[6], line 11\u001b[0m\n\u001b[1;32m      8\u001b[0m \u001b[38;5;66;03m# pid = 'MOD'\u001b[39;00m\n\u001b[1;32m      9\u001b[0m \u001b[38;5;66;03m# pid = 'MEME'\u001b[39;00m\n\u001b[1;32m     10\u001b[0m pid \u001b[38;5;241m=\u001b[39m \u001b[38;5;124m'\u001b[39m\u001b[38;5;124m2020\u001b[39m\u001b[38;5;124m'\u001b[39m\n\u001b[0;32m---> 11\u001b[0m \u001b[43mpenelopet\u001b[49m\u001b[38;5;241;43m.\u001b[39;49m\u001b[43medit_mat\u001b[49m\u001b[43m(\u001b[49m\u001b[43mpid\u001b[49m\u001b[43m,\u001b[49m\u001b[43m \u001b[49m\u001b[43mMATS\u001b[49m\u001b[43m)\u001b[49m\n",
      "File \u001b[0;32m/scratch/petgfn/Robert/PRcomp/inputs.py:276\u001b[0m, in \u001b[0;36mPeneloPET.edit_mat\u001b[0;34m(self, pid, MATS)\u001b[0m\n\u001b[1;32m    274\u001b[0m     \u001b[38;5;28;01mraise\u001b[39;00m \u001b[38;5;167;01mKeyError\u001b[39;00m(\u001b[38;5;124mf\u001b[39m\u001b[38;5;124m\"\u001b[39m\u001b[38;5;124mMaterial can only be edited for pids \u001b[39m\u001b[38;5;132;01m{\u001b[39;00m\u001b[38;5;28mself\u001b[39m\u001b[38;5;241m.\u001b[39mavailable_pids\u001b[38;5;132;01m}\u001b[39;00m\u001b[38;5;124m\"\u001b[39m)\n\u001b[1;32m    275\u001b[0m \u001b[38;5;28;01mif\u001b[39;00m \u001b[38;5;28mlen\u001b[39m(MATS) \u001b[38;5;241m!=\u001b[39m \u001b[38;5;241m1\u001b[39m:\n\u001b[0;32m--> 276\u001b[0m     \u001b[38;5;28;01mraise\u001b[39;00m \u001b[38;5;167;01mKeyError\u001b[39;00m(\u001b[38;5;124mf\u001b[39m\u001b[38;5;124m\"\u001b[39m\u001b[38;5;124mHeterogenous material edition is not implemented for PeneloPET\u001b[39m\u001b[38;5;124m\"\u001b[39m)\n\u001b[1;32m    278\u001b[0m mat \u001b[38;5;241m=\u001b[39m [_[\u001b[38;5;241m0\u001b[39m] \u001b[38;5;28;01mfor\u001b[39;00m _ \u001b[38;5;129;01min\u001b[39;00m MATS\u001b[38;5;241m.\u001b[39mvalues()][\u001b[38;5;241m0\u001b[39m]\n\u001b[1;32m    279\u001b[0m \u001b[38;5;28mself\u001b[39m\u001b[38;5;241m.\u001b[39m_run_bin([\u001b[38;5;124mf\u001b[39m\u001b[38;5;124m\"\u001b[39m\u001b[38;5;124m./bin/penelopet/material.sh\u001b[39m\u001b[38;5;124m\"\u001b[39m, mat])\n",
      "\u001b[0;31mKeyError\u001b[0m: 'Heterogenous material edition is not implemented for PeneloPET'"
     ]
    }
   ],
   "source": [
    "MATS =  {\n",
    "        'water':    ['water', 1, 1.01130250E+00],    \n",
    "        # 'air':      ['air', 2, 1.21000000E-03],\n",
    "        'lung':     ['lung', 3, 4.80000000E-01],\n",
    "        'bone':     ['bone', 4, 1.87540000E+00]\n",
    "        }\n",
    "\n",
    "# pid = 'MOD'\n",
    "# pid = 'MEME'\n",
    "pid = '2020'\n",
    "penelopet.edit_mat(pid, MATS)"
   ]
  },
  {
   "cell_type": "markdown",
   "metadata": {},
   "source": [
    "source"
   ]
  },
  {
   "cell_type": "code",
   "execution_count": null,
   "metadata": {},
   "outputs": [],
   "source": [
    "pid = '2020'\n",
    "####"
   ]
  },
  {
   "cell_type": "code",
   "execution_count": 8,
   "metadata": {},
   "outputs": [
    {
     "name": "stdout",
     "output_type": "stream",
     "text": [
      "\"penelopet/work/main/source.inp\" activity modified to 2e5\n"
     ]
    }
   ],
   "source": [
    "pid = '2024'\n",
    "penelopet.edit_source_activity(pid, \"2e5\")"
   ]
  },
  {
   "cell_type": "markdown",
   "metadata": {},
   "source": [
    "## GATE"
   ]
  },
  {
   "cell_type": "code",
   "execution_count": null,
   "metadata": {},
   "outputs": [],
   "source": [
    "from inputs import GATE\n",
    "\n",
    "gate = GATE(verbose=True)\n",
    "pids = gate.available_pids\n",
    "pids"
   ]
  },
  {
   "cell_type": "markdown",
   "metadata": {},
   "source": [
    "isotope"
   ]
  },
  {
   "cell_type": "code",
   "execution_count": null,
   "metadata": {},
   "outputs": [],
   "source": [
    "pid = '9'\n",
    "gate.edit_isotope(pid, 'Ga68')\n",
    "print()\n",
    "gate.edit_isotope(pid, 'A62')\n",
    "gate.edit_isotope(pid, 'H8')"
   ]
  },
  {
   "cell_type": "markdown",
   "metadata": {},
   "source": [
    "voxel size"
   ]
  },
  {
   "cell_type": "code",
   "execution_count": null,
   "metadata": {},
   "outputs": [],
   "source": [
    "pid = '9'\n",
    "gate.edit_voxSize(pid, [201, 201, 151], [0.03, 0.03, 0.05])\n",
    "#gate.edit_voxSize('MEME', [201, 201, 151], [0.03, 0.03, 0.05])"
   ]
  },
  {
   "cell_type": "markdown",
   "metadata": {},
   "source": [
    "seed"
   ]
  },
  {
   "cell_type": "code",
   "execution_count": null,
   "metadata": {},
   "outputs": [],
   "source": [
    "pid = '9'\n",
    "gate.edit_seed(pid)"
   ]
  },
  {
   "cell_type": "markdown",
   "metadata": {},
   "source": [
    "material"
   ]
  },
  {
   "cell_type": "code",
   "execution_count": null,
   "metadata": {},
   "outputs": [],
   "source": [
    "MATS =  {\n",
    "        # 'water':    ['water', 1, 1.01130250E+00],    \n",
    "        # 'air':      ['air', 2, 1.21000000E-03],\n",
    "        # 'lung':     ['lung', 3, 4.80000000E-01],\n",
    "        'bone':     ['BoneTFM', 4, 1.87540000E+00]\n",
    "        }\n",
    "\n",
    "pid = '9'\n",
    "gate.edit_mat(pid, MATS, [101, 101, 111], [0.03, 0.03, 0.05])"
   ]
  },
  {
   "cell_type": "code",
   "execution_count": null,
   "metadata": {},
   "outputs": [],
   "source": [
    "MATS =  {\n",
    "        'water':    ['WaterTFM', 1, 1.01130250E+00],    \n",
    "        # 'air':      ['air', 2, 1.21000000E-03],\n",
    "        'lung':     ['LungTFM', 3, 4.80000000E-01],\n",
    "        'bone':     ['BoneTFM', 4, 1.87540000E+00]\n",
    "        }\n",
    "\n",
    "# pid = 'MOD'\n",
    "# pid = 'MEME'\n",
    "pid = '9'\n",
    "gate.edit_mat(pid, MATS, [11, 11, 11], [0.03, 0.03, 0.03])"
   ]
  },
  {
   "cell_type": "markdown",
   "metadata": {},
   "source": [
    "source"
   ]
  },
  {
   "cell_type": "code",
   "execution_count": null,
   "metadata": {},
   "outputs": [],
   "source": [
    "#pid = 'MOD'\n",
    "#shape = 'sphere'\n",
    "#radius = 0\n",
    "#peneasy.edit_source_shape(pid, shape, [0.0]*3, radius, \"1e5\", [11, 11, 11], [0.03, 0.03, 0.03])"
   ]
  },
  {
   "cell_type": "code",
   "execution_count": null,
   "metadata": {},
   "outputs": [],
   "source": [
    "pid = '9'\n",
    "gate.edit_source_nhist(pid, \"2e5\")"
   ]
  },
  {
   "cell_type": "markdown",
   "metadata": {},
   "source": [
    "# Simulation and Analysis"
   ]
  },
  {
   "cell_type": "code",
   "execution_count": 9,
   "metadata": {},
   "outputs": [],
   "source": [
    "# %cd ..\n",
    "import inputs, simuls, analysis"
   ]
  },
  {
   "cell_type": "markdown",
   "metadata": {},
   "source": [
    "## PenEasy"
   ]
  },
  {
   "cell_type": "code",
   "execution_count": null,
   "metadata": {},
   "outputs": [],
   "source": [
    "pids = simuls.PenEasy.available_pids\n",
    "# Initialize PenEasy Input Editor\n",
    "peneasy_inps = inputs.PenEasy(verbose=True)\n",
    "# Initialize PenEasy Simulator (identified by pid)\n",
    "peneasy_sims = simuls.PenEasy(verbose=True)\n",
    "# Activate PenEasy Configurations\n",
    "# for pid in pids:\n",
    "#     peneasy_sims.activate_pid(pid)\n",
    "peneasy_sims.activate_pid('SPC')\n",
    "# peneasy_sims.activate_pid('NUC')\n",
    "# Initialize Plotter\n",
    "peneasy_plots = analysis.GetResults(verbose=True)"
   ]
  },
  {
   "cell_type": "code",
   "execution_count": null,
   "metadata": {},
   "outputs": [],
   "source": [
    "MATS = {'water' : ['water', 1, 1.00+00]}\n",
    "SIZE = [10, 10, 10]\n",
    "STEP = [0.1, 0.1, 0.1]  #cm\n",
    "nhist = \"1.1e6\"\n",
    "\n",
    "for pid in pids:\n",
    "    peneasy_inps.edit_isotope(pid, 'F18')\n",
    "    peneasy_inps.edit_voxSize(pid, SIZE, STEP)\n",
    "    peneasy_inps.edit_seed(pid, 12345, 54321)\n",
    "    # peneasy_inps.edit_mat(pid, MATS, SIZE, STEP)\n",
    "    # if pid == 'MOD':\n",
    "    #     peneasy_inps.edit_source_shape(pid, 'sphere', [0.0]*3, 0.0, nhist, SIZE, STEP)\n",
    "    # peneasy_inps.edit_source_nhist(pid, nhist)"
   ]
  },
  {
   "cell_type": "code",
   "execution_count": null,
   "metadata": {},
   "outputs": [],
   "source": [
    "for pid in pids:\n",
    "    peneasy_sims.simulate(pid, get_times=False)"
   ]
  },
  {
   "cell_type": "code",
   "execution_count": null,
   "metadata": {},
   "outputs": [],
   "source": [
    "peneasy_sims.simulate_all(suffix='-F18-water')"
   ]
  },
  {
   "cell_type": "code",
   "execution_count": null,
   "metadata": {},
   "outputs": [],
   "source": [
    "for pid in pids:\n",
    "    peneasy_plots.load(pid, f\"RESULTS/{pid}.{peneasy_sims.active_simulators[pid].output_format}\", SIZE, STEP)\n",
    "peneasy_plots.load('GATE7', 'gate/PR_xyz.dat', SIZE, STEP)\n",
    "peneasy_plots.data_analysis()"
   ]
  },
  {
   "cell_type": "code",
   "execution_count": null,
   "metadata": {},
   "outputs": [],
   "source": [
    "peneasy_plots.plot_aPSFx(sin=False, lim=1.0, log_scale=False)"
   ]
  },
  {
   "cell_type": "code",
   "execution_count": null,
   "metadata": {},
   "outputs": [],
   "source": [
    "peneasy_plots.plot_aPSF3D(sin=True, lim=None, log_scale=True)"
   ]
  },
  {
   "cell_type": "code",
   "execution_count": null,
   "metadata": {},
   "outputs": [],
   "source": [
    "peneasy_plots.plot_g3D(lim=None, log_scale=True, labels=['MOD', 'SPC'])"
   ]
  },
  {
   "cell_type": "code",
   "execution_count": null,
   "metadata": {},
   "outputs": [],
   "source": [
    "peneasy_plots.plot_G3D(lim=None, labels=None)"
   ]
  },
  {
   "cell_type": "markdown",
   "metadata": {},
   "source": [
    "## PeneloPET"
   ]
  },
  {
   "cell_type": "code",
   "execution_count": 10,
   "metadata": {},
   "outputs": [
    {
     "name": "stdout",
     "output_type": "stream",
     "text": [
      "PeneloPET 2024 activated\n"
     ]
    }
   ],
   "source": [
    "pids = simuls.PeneloPET.available_pids\n",
    "# Initialize PeneloPET Input Editor\n",
    "penelopet_inps = inputs.PeneloPET(verbose=True)\n",
    "# Initialize PeneloPET Simulator (identified by pid)\n",
    "penelopet_sims = simuls.PeneloPET(verbose=True)\n",
    "# Activate PeneloPET Configurations\n",
    "penelopet_sims.activate_pid('2024')\n",
    "# Initialize Plotter\n",
    "penelopet_plots = analysis.GetResults(verbose=True)"
   ]
  },
  {
   "cell_type": "code",
   "execution_count": 11,
   "metadata": {},
   "outputs": [
    {
     "name": "stdout",
     "output_type": "stream",
     "text": [
      "\"penelopet/work/main/source.inp\" isotope modified to 1 (F18)\n",
      "\"penelopet/work/main/main.inp\" random seeds modified to 12345 and 54321\n",
      "\"penelopet/work/main/object.inp\" material modified to 1 (water)\n",
      "\"penelopet/work/main/source.inp\" activity modified to 1.1e3\n"
     ]
    }
   ],
   "source": [
    "MATS = {'water' : ['water', 0, 1.00+00]}\n",
    "nhist = \"1.1e3\"\n",
    "\n",
    "pid = '2024'\n",
    "penelopet_inps.edit_isotope(pid, 'F18')\n",
    "penelopet_inps.edit_seed(pid, 12345, 54321)\n",
    "penelopet_inps.edit_mat(pid, MATS)\n",
    "penelopet_inps.edit_source_activity(pid, nhist)"
   ]
  }
 ],
 "metadata": {
  "kernelspec": {
   "display_name": "Python 3",
   "language": "python",
   "name": "python3"
  },
  "language_info": {
   "codemirror_mode": {
    "name": "ipython",
    "version": 3
   },
   "file_extension": ".py",
   "mimetype": "text/x-python",
   "name": "python",
   "nbconvert_exporter": "python",
   "pygments_lexer": "ipython3",
   "version": "3.11.8"
  }
 },
 "nbformat": 4,
 "nbformat_minor": 2
}
