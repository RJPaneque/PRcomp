{
 "cells": [
  {
   "cell_type": "markdown",
   "metadata": {},
   "source": [
    "# Input Edition"
   ]
  },
  {
   "cell_type": "markdown",
   "metadata": {},
   "source": [
    "## PenEasy "
   ]
  },
  {
   "cell_type": "code",
   "execution_count": null,
   "metadata": {},
   "outputs": [],
   "source": [
    "from inputs import PenEasy\n",
    "\n",
    "peneasy = PenEasy(verbose=True)\n",
    "pids = peneasy.available_pids"
   ]
  },
  {
   "cell_type": "markdown",
   "metadata": {},
   "source": [
    "isotope"
   ]
  },
  {
   "cell_type": "code",
   "execution_count": null,
   "metadata": {},
   "outputs": [],
   "source": [
    "for pid in ['SPC', 'NUC']:\n",
    "    peneasy.edit_isotope(pid, 'F18')\n",
    "print()\n",
    "for pid in ['SPC', 'NUC']:\n",
    "    peneasy.edit_isotope(pid, 'A1')"
   ]
  },
  {
   "cell_type": "markdown",
   "metadata": {},
   "source": [
    "voxel size"
   ]
  },
  {
   "cell_type": "code",
   "execution_count": null,
   "metadata": {},
   "outputs": [],
   "source": [
    "for pid in pids:\n",
    "    peneasy.edit_voxSize(pid, [201, 201, 151], [0.03, 0.03, 0.05])\n",
    "\n",
    "peneasy.edit_voxSize('MEME', [201, 201, 151], [0.03, 0.03, 0.05])"
   ]
  },
  {
   "cell_type": "markdown",
   "metadata": {},
   "source": [
    "seed"
   ]
  },
  {
   "cell_type": "code",
   "execution_count": null,
   "metadata": {},
   "outputs": [],
   "source": [
    "for pid in pids:\n",
    "    peneasy.edit_seed(pid)"
   ]
  },
  {
   "cell_type": "markdown",
   "metadata": {},
   "source": [
    "material"
   ]
  },
  {
   "cell_type": "code",
   "execution_count": null,
   "metadata": {},
   "outputs": [],
   "source": [
    "MATS =  {\n",
    "        # 'water':    ['water', 1, 1.01130250E+00],    \n",
    "        # 'air':      ['air', 2, 1.21000000E-03],\n",
    "        # 'lung':     ['lung', 3, 4.80000000E-01],\n",
    "        'bone':     ['bone', 4, 1.87540000E+00]\n",
    "        }\n",
    "\n",
    "for pid in pids:\n",
    "    peneasy.edit_mat(pid, MATS, [101, 101, 111], [0.03, 0.03, 0.05])"
   ]
  },
  {
   "cell_type": "code",
   "execution_count": null,
   "metadata": {},
   "outputs": [],
   "source": [
    "MATS =  {\n",
    "        'water':    ['water', 1, 1.01130250E+00],    \n",
    "        # 'air':      ['air', 2, 1.21000000E-03],\n",
    "        'lung':     ['lung', 3, 4.80000000E-01],\n",
    "        'bone':     ['bone', 4, 1.87540000E+00]\n",
    "        }\n",
    "\n",
    "# pid = 'MOD'\n",
    "# pid = 'MEME'\n",
    "pid = 'SPC'\n",
    "peneasy.edit_mat(pid, MATS, [11, 11, 11], [0.03, 0.03, 0.03])"
   ]
  },
  {
   "cell_type": "markdown",
   "metadata": {},
   "source": [
    "source"
   ]
  },
  {
   "cell_type": "code",
   "execution_count": null,
   "metadata": {},
   "outputs": [],
   "source": [
    "pid = 'MOD'\n",
    "shape = 'sphere'\n",
    "radius = 0\n",
    "peneasy.edit_source_shape(pid, shape, [0.0]*3, radius, \"1e5\", [11, 11, 11], [0.03, 0.03, 0.03])"
   ]
  },
  {
   "cell_type": "code",
   "execution_count": null,
   "metadata": {},
   "outputs": [],
   "source": [
    "for pid in pids:\n",
    "    peneasy.edit_source_nhist(pid, \"2e5\")"
   ]
  },
  {
   "cell_type": "markdown",
   "metadata": {},
   "source": [
    "## PeneloPET"
   ]
  },
  {
   "cell_type": "markdown",
   "metadata": {},
   "source": [
    "## GATE"
   ]
  },
  {
   "cell_type": "code",
   "execution_count": 1,
   "metadata": {},
   "outputs": [
    {
     "data": {
      "text/plain": [
       "['7', '9']"
      ]
     },
     "execution_count": 1,
     "metadata": {},
     "output_type": "execute_result"
    }
   ],
   "source": [
    "from inputs import GATE\n",
    "\n",
    "gate = GATE(verbose=True)\n",
    "pids = gate.available_pids\n",
    "pids"
   ]
  },
  {
   "cell_type": "markdown",
   "metadata": {},
   "source": [
    "isotope"
   ]
  },
  {
   "cell_type": "code",
   "execution_count": null,
   "metadata": {},
   "outputs": [],
   "source": [
    "pid = '9'\n",
    "gate.edit_isotope(pid, 'Ga68')\n",
    "print()\n",
    "gate.edit_isotope(pid, 'A62')\n",
    "gate.edit_isotope(pid, 'H8')"
   ]
  },
  {
   "cell_type": "markdown",
   "metadata": {},
   "source": [
    "voxel size"
   ]
  },
  {
   "cell_type": "code",
   "execution_count": null,
   "metadata": {},
   "outputs": [],
   "source": [
    "pid = '9'\n",
    "gate.edit_voxSize(pid, [201, 201, 151], [0.03, 0.03, 0.05])\n",
    "#gate.edit_voxSize('MEME', [201, 201, 151], [0.03, 0.03, 0.05])"
   ]
  },
  {
   "cell_type": "markdown",
   "metadata": {},
   "source": [
    "seed"
   ]
  },
  {
   "cell_type": "code",
   "execution_count": null,
   "metadata": {},
   "outputs": [],
   "source": [
    "pid = '9'\n",
    "gate.edit_seed(pid)"
   ]
  },
  {
   "cell_type": "markdown",
   "metadata": {},
   "source": [
    "material"
   ]
  },
  {
   "cell_type": "code",
   "execution_count": 2,
   "metadata": {},
   "outputs": [
    {
     "name": "stdout",
     "output_type": "stream",
     "text": [
      "\"mac/phantoms/analytical/1mat.mac\" materials modified to BoneTFM (case 1)\n"
     ]
    }
   ],
   "source": [
    "MATS =  {\n",
    "        # 'water':    ['water', 1, 1.01130250E+00],    \n",
    "        # 'air':      ['air', 2, 1.21000000E-03],\n",
    "        # 'lung':     ['lung', 3, 4.80000000E-01],\n",
    "        'bone':     ['BoneTFM', 4, 1.87540000E+00]\n",
    "        }\n",
    "\n",
    "pid = '9'\n",
    "gate.edit_mat(pid, MATS, [101, 101, 111], [0.03, 0.03, 0.05])"
   ]
  },
  {
   "cell_type": "code",
   "execution_count": 5,
   "metadata": {},
   "outputs": [
    {
     "name": "stdout",
     "output_type": "stream",
     "text": [
      "\"mac/phantoms/analytical/3mat.mac\" materials modified to WaterTFM LungTFM BoneTFM (case 3)\n"
     ]
    }
   ],
   "source": [
    "MATS =  {\n",
    "        'water':    ['WaterTFM', 1, 1.01130250E+00],    \n",
    "        # 'air':      ['air', 2, 1.21000000E-03],\n",
    "        'lung':     ['LungTFM', 3, 4.80000000E-01],\n",
    "        'bone':     ['BoneTFM', 4, 1.87540000E+00]\n",
    "        }\n",
    "\n",
    "# pid = 'MOD'\n",
    "# pid = 'MEME'\n",
    "pid = '9'\n",
    "gate.edit_mat(pid, MATS, [11, 11, 11], [0.03, 0.03, 0.03])"
   ]
  },
  {
   "cell_type": "markdown",
   "metadata": {},
   "source": [
    "source"
   ]
  },
  {
   "cell_type": "code",
   "execution_count": null,
   "metadata": {},
   "outputs": [],
   "source": [
    "#pid = 'MOD'\n",
    "#shape = 'sphere'\n",
    "#radius = 0\n",
    "#peneasy.edit_source_shape(pid, shape, [0.0]*3, radius, \"1e5\", [11, 11, 11], [0.03, 0.03, 0.03])"
   ]
  },
  {
   "cell_type": "code",
   "execution_count": 6,
   "metadata": {},
   "outputs": [
    {
     "name": "stdout",
     "output_type": "stream",
     "text": [
      "\"gate/PR_GATEv9.mac\" number of histories modified to 2e5\n"
     ]
    }
   ],
   "source": [
    "pid = '9'\n",
    "gate.edit_source_nhist(pid, \"2e5\")"
   ]
  },
  {
   "cell_type": "markdown",
   "metadata": {},
   "source": [
    "# Simulation and Analysis"
   ]
  },
  {
   "cell_type": "markdown",
   "metadata": {},
   "source": [
    "## PenEasy"
   ]
  },
  {
   "cell_type": "code",
   "execution_count": null,
   "metadata": {},
   "outputs": [],
   "source": [
    "# %cd ..\n",
    "import inputs, simuls, analysis\n",
    "\n",
    "pids = simuls.PenEasy.available_pids\n",
    "# Initialize PenEasy Input Editor\n",
    "peneasy_inps = inputs.PenEasy(verbose=True)\n",
    "# Initialize PenEasy Simulator (identified by pid)\n",
    "peneasy_sims = simuls.PenEasy(verbose=True)\n",
    "# Activate PenEasy Configurations\n",
    "# for pid in pids:\n",
    "#     peneasy_sims.activate_pid(pid)\n",
    "peneasy_sims.activate_pid('SPC')\n",
    "# peneasy_sims.activate_pid('NUC')\n",
    "# Initialize Plotter\n",
    "peneasy_plots = analysis.GetResults(verbose=True)"
   ]
  },
  {
   "cell_type": "code",
   "execution_count": null,
   "metadata": {},
   "outputs": [],
   "source": [
    "MATS = {'water' : ['water', 1, 1.00+00]}\n",
    "SIZE = [10, 10, 10]\n",
    "STEP = [0.1, 0.1, 0.1]  #cm\n",
    "nhist = \"1.1e6\"\n",
    "\n",
    "for pid in pids:\n",
    "    peneasy_inps.edit_isotope(pid, 'F18')\n",
    "    peneasy_inps.edit_voxSize(pid, SIZE, STEP)\n",
    "    peneasy_inps.edit_seed(pid, 12345, 54321)\n",
    "    # peneasy_inps.edit_mat(pid, MATS, SIZE, STEP)\n",
    "    # if pid == 'MOD':\n",
    "    #     peneasy_inps.edit_source_shape(pid, 'sphere', [0.0]*3, 0.0, nhist, SIZE, STEP)\n",
    "    # peneasy_inps.edit_source_nhist(pid, nhist)"
   ]
  },
  {
   "cell_type": "code",
   "execution_count": null,
   "metadata": {},
   "outputs": [],
   "source": [
    "for pid in pids:\n",
    "    peneasy_sims.simulate(pid, get_times=False)"
   ]
  },
  {
   "cell_type": "code",
   "execution_count": null,
   "metadata": {},
   "outputs": [],
   "source": [
    "peneasy_sims.simulate_all(suffix='-F18-water')"
   ]
  },
  {
   "cell_type": "code",
   "execution_count": null,
   "metadata": {},
   "outputs": [],
   "source": [
    "for pid in pids:\n",
    "    peneasy_plots.load(pid, f\"RESULTS/{pid}.{peneasy_sims.active_simulators[pid].output_format}\", SIZE, STEP)\n",
    "peneasy_plots.load('GATE7', 'gate/PR_xyz.dat', SIZE, STEP)\n",
    "peneasy_plots.data_analysis()"
   ]
  },
  {
   "cell_type": "code",
   "execution_count": null,
   "metadata": {},
   "outputs": [],
   "source": [
    "peneasy_plots.plot_aPSFx(sin=False, lim=1.0, log_scale=False)"
   ]
  },
  {
   "cell_type": "code",
   "execution_count": null,
   "metadata": {},
   "outputs": [],
   "source": [
    "peneasy_plots.plot_aPSF3D(sin=True, lim=None, log_scale=True)"
   ]
  },
  {
   "cell_type": "code",
   "execution_count": null,
   "metadata": {},
   "outputs": [],
   "source": [
    "peneasy_plots.plot_g3D(lim=None, log_scale=True, labels=['MOD', 'SPC'])"
   ]
  },
  {
   "cell_type": "code",
   "execution_count": null,
   "metadata": {},
   "outputs": [],
   "source": [
    "peneasy_plots.plot_G3D(lim=None, labels=None)"
   ]
  },
  {
   "cell_type": "markdown",
   "metadata": {},
   "source": [
    "## PeneloPET"
   ]
  },
  {
   "cell_type": "code",
   "execution_count": null,
   "metadata": {},
   "outputs": [],
   "source": []
  }
 ],
 "metadata": {
  "kernelspec": {
   "display_name": "Python 3",
   "language": "python",
   "name": "python3"
  },
  "language_info": {
   "codemirror_mode": {
    "name": "ipython",
    "version": 3
   },
   "file_extension": ".py",
   "mimetype": "text/x-python",
   "name": "python",
   "nbconvert_exporter": "python",
   "pygments_lexer": "ipython3",
   "version": "3.11.8"
  }
 },
 "nbformat": 4,
 "nbformat_minor": 2
}
